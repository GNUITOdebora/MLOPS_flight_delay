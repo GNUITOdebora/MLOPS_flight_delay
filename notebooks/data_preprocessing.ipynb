{
 "cells": [
  {
   "cell_type": "code",
   "execution_count": 22,
   "metadata": {},
   "outputs": [],
   "source": [
    "# Importation de biblioteques\n",
    "import pandas as pd\n",
    "pd.options.display.max_columns = None\n",
    "import numpy as np\n",
    "import seaborn as sns\n",
    "import matplotlib.pyplot as plt\n",
    "sns.set(rc = {'figure.figsize':(25,10)})\n",
    "from IPython.display import Image\n"
   ]
  },
  {
   "cell_type": "code",
   "execution_count": 2,
   "metadata": {},
   "outputs": [
    {
     "name": "stderr",
     "output_type": "stream",
     "text": [
      "C:\\Users\\debgn\\AppData\\Local\\Temp\\ipykernel_9580\\2533705249.py:1: DtypeWarning: Columns (7,8) have mixed types. Specify dtype option on import or set low_memory=False.\n",
      "  df_flight = pd.read_csv(\"../data/flights.csv\")\n"
     ]
    }
   ],
   "source": [
    "df_flight = pd.read_csv(\"../data/flights.csv\")"
   ]
  },
  {
   "cell_type": "code",
   "execution_count": 3,
   "metadata": {},
   "outputs": [
    {
     "data": {
      "text/html": [
       "<div>\n",
       "<style scoped>\n",
       "    .dataframe tbody tr th:only-of-type {\n",
       "        vertical-align: middle;\n",
       "    }\n",
       "\n",
       "    .dataframe tbody tr th {\n",
       "        vertical-align: top;\n",
       "    }\n",
       "\n",
       "    .dataframe thead th {\n",
       "        text-align: right;\n",
       "    }\n",
       "</style>\n",
       "<table border=\"1\" class=\"dataframe\">\n",
       "  <thead>\n",
       "    <tr style=\"text-align: right;\">\n",
       "      <th></th>\n",
       "      <th>YEAR</th>\n",
       "      <th>MONTH</th>\n",
       "      <th>DAY</th>\n",
       "      <th>DAY_OF_WEEK</th>\n",
       "      <th>AIRLINE</th>\n",
       "      <th>FLIGHT_NUMBER</th>\n",
       "      <th>TAIL_NUMBER</th>\n",
       "      <th>ORIGIN_AIRPORT</th>\n",
       "      <th>DESTINATION_AIRPORT</th>\n",
       "      <th>SCHEDULED_DEPARTURE</th>\n",
       "      <th>DEPARTURE_TIME</th>\n",
       "      <th>DEPARTURE_DELAY</th>\n",
       "      <th>TAXI_OUT</th>\n",
       "      <th>WHEELS_OFF</th>\n",
       "      <th>SCHEDULED_TIME</th>\n",
       "      <th>ELAPSED_TIME</th>\n",
       "      <th>AIR_TIME</th>\n",
       "      <th>DISTANCE</th>\n",
       "      <th>WHEELS_ON</th>\n",
       "      <th>TAXI_IN</th>\n",
       "      <th>SCHEDULED_ARRIVAL</th>\n",
       "      <th>ARRIVAL_TIME</th>\n",
       "      <th>ARRIVAL_DELAY</th>\n",
       "      <th>DIVERTED</th>\n",
       "      <th>CANCELLED</th>\n",
       "      <th>CANCELLATION_REASON</th>\n",
       "      <th>AIR_SYSTEM_DELAY</th>\n",
       "      <th>SECURITY_DELAY</th>\n",
       "      <th>AIRLINE_DELAY</th>\n",
       "      <th>LATE_AIRCRAFT_DELAY</th>\n",
       "      <th>WEATHER_DELAY</th>\n",
       "    </tr>\n",
       "  </thead>\n",
       "  <tbody>\n",
       "    <tr>\n",
       "      <th>0</th>\n",
       "      <td>2015</td>\n",
       "      <td>1</td>\n",
       "      <td>1</td>\n",
       "      <td>4</td>\n",
       "      <td>AS</td>\n",
       "      <td>98</td>\n",
       "      <td>N407AS</td>\n",
       "      <td>ANC</td>\n",
       "      <td>SEA</td>\n",
       "      <td>5</td>\n",
       "      <td>2354.0</td>\n",
       "      <td>-11.0</td>\n",
       "      <td>21.0</td>\n",
       "      <td>15.0</td>\n",
       "      <td>205.0</td>\n",
       "      <td>194.0</td>\n",
       "      <td>169.0</td>\n",
       "      <td>1448</td>\n",
       "      <td>404.0</td>\n",
       "      <td>4.0</td>\n",
       "      <td>430</td>\n",
       "      <td>408.0</td>\n",
       "      <td>-22.0</td>\n",
       "      <td>0</td>\n",
       "      <td>0</td>\n",
       "      <td>NaN</td>\n",
       "      <td>NaN</td>\n",
       "      <td>NaN</td>\n",
       "      <td>NaN</td>\n",
       "      <td>NaN</td>\n",
       "      <td>NaN</td>\n",
       "    </tr>\n",
       "  </tbody>\n",
       "</table>\n",
       "</div>"
      ],
      "text/plain": [
       "   YEAR  MONTH  DAY  DAY_OF_WEEK AIRLINE  FLIGHT_NUMBER TAIL_NUMBER  \\\n",
       "0  2015      1    1            4      AS             98      N407AS   \n",
       "\n",
       "  ORIGIN_AIRPORT DESTINATION_AIRPORT  SCHEDULED_DEPARTURE  DEPARTURE_TIME  \\\n",
       "0            ANC                 SEA                    5          2354.0   \n",
       "\n",
       "   DEPARTURE_DELAY  TAXI_OUT  WHEELS_OFF  SCHEDULED_TIME  ELAPSED_TIME  \\\n",
       "0            -11.0      21.0        15.0           205.0         194.0   \n",
       "\n",
       "   AIR_TIME  DISTANCE  WHEELS_ON  TAXI_IN  SCHEDULED_ARRIVAL  ARRIVAL_TIME  \\\n",
       "0     169.0      1448      404.0      4.0                430         408.0   \n",
       "\n",
       "   ARRIVAL_DELAY  DIVERTED  CANCELLED CANCELLATION_REASON  AIR_SYSTEM_DELAY  \\\n",
       "0          -22.0         0          0                 NaN               NaN   \n",
       "\n",
       "   SECURITY_DELAY  AIRLINE_DELAY  LATE_AIRCRAFT_DELAY  WEATHER_DELAY  \n",
       "0             NaN            NaN                  NaN            NaN  "
      ]
     },
     "execution_count": 3,
     "metadata": {},
     "output_type": "execute_result"
    }
   ],
   "source": [
    "df_flight.head(1)"
   ]
  },
  {
   "cell_type": "code",
   "execution_count": 4,
   "metadata": {},
   "outputs": [],
   "source": [
    "df=df_flight[['MONTH','AIRLINE','ORIGIN_AIRPORT','DESTINATION_AIRPORT', 'DEPARTURE_TIME','DEPARTURE_DELAY','SCHEDULED_TIME','CANCELLATION_REASON','DIVERTED','CANCELLED',\n",
    "                     'SCHEDULED_ARRIVAL','AIR_SYSTEM_DELAY','SECURITY_DELAY','AIRLINE_DELAY','LATE_AIRCRAFT_DELAY','WEATHER_DELAY','ARRIVAL_DELAY']]"
   ]
  },
  {
   "cell_type": "markdown",
   "metadata": {},
   "source": [
    "# 1-Cleaning"
   ]
  },
  {
   "cell_type": "markdown",
   "metadata": {},
   "source": [
    "### 1.1- les valeur manquantes"
   ]
  },
  {
   "cell_type": "code",
   "execution_count": 5,
   "metadata": {},
   "outputs": [
    {
     "name": "stdout",
     "output_type": "stream",
     "text": [
      "DEPARTURE_TIME           86153\n",
      "DEPARTURE_DELAY          86153\n",
      "SCHEDULED_TIME               6\n",
      "CANCELLATION_REASON    5729195\n",
      "AIR_SYSTEM_DELAY       4755640\n",
      "SECURITY_DELAY         4755640\n",
      "AIRLINE_DELAY          4755640\n",
      "LATE_AIRCRAFT_DELAY    4755640\n",
      "WEATHER_DELAY          4755640\n",
      "ARRIVAL_DELAY           105071\n",
      "dtype: int64\n"
     ]
    }
   ],
   "source": [
    "missing_values = df.isnull().sum()\n",
    "missing_values = missing_values[missing_values > 0]  # Filtrer uniquement les colonnes avec des NaN\n",
    "print(missing_values)\n"
   ]
  },
  {
   "cell_type": "code",
   "execution_count": 6,
   "metadata": {},
   "outputs": [
    {
     "name": "stdout",
     "output_type": "stream",
     "text": [
      "Le pourcentage de valeurs non nulles pour la variable AIR_SYSTEM_DELAY est : 18.28%\n",
      "Le pourcentage de valeurs non nulles pour la variable SECURITY_DELAY est : 18.28%\n",
      "Le pourcentage de valeurs non nulles pour la variable AIRLINE_DELAY est : 18.28%\n",
      "Le pourcentage de valeurs non nulles pour la variable LATE_AIRCRAFT_DELAY est : 18.28%\n",
      "Le pourcentage de valeurs non nulles pour la variable WEATHER_DELAY est : 18.28%\n"
     ]
    }
   ],
   "source": [
    "# Liste des colonnes à analyser\n",
    "columns = [\n",
    "    'AIR_SYSTEM_DELAY', \n",
    "    'SECURITY_DELAY', \n",
    "    'AIRLINE_DELAY', \n",
    "    'LATE_AIRCRAFT_DELAY', \n",
    "    'WEATHER_DELAY'\n",
    "]\n",
    "\n",
    "# Calcul et affichage du pourcentage de valeurs non-NaN et non nulles\n",
    "for col in columns:\n",
    "    total_count = len(df)  # Nombre total de lignes\n",
    "    valid_count_sum = df[col].notna().sum()  # Total des valeurs valides\n",
    "    percentage_valid = (valid_count_sum / total_count) * 100  # Pourcentage\n",
    "    print(f\"Le pourcentage de valeurs non nulles pour la variable {col} est : {percentage_valid:.2f}%\")\n"
   ]
  },
  {
   "cell_type": "markdown",
   "metadata": {},
   "source": [
    "Nous remarquons que ces variables possedent enormement de **valeur manquante**, mais un autre constant est que Les valeurs manquantes apparaissent surtout lorsque, logiquement, une compagnie aérienne n'est pas responsable d'un retard. Ces données manquantes ne reflètent donc pas un problème de qualité des données, mais simplement le fait qu'aucun événement lié à ces retards n'a eu lieu. On peut le vérifier en regardant un exemple : quand une caractéristique de retard est activée, toutes les autres sont définies à \"0.0\"."
   ]
  },
  {
   "cell_type": "code",
   "execution_count": 7,
   "metadata": {},
   "outputs": [
    {
     "data": {
      "text/html": [
       "<div>\n",
       "<style scoped>\n",
       "    .dataframe tbody tr th:only-of-type {\n",
       "        vertical-align: middle;\n",
       "    }\n",
       "\n",
       "    .dataframe tbody tr th {\n",
       "        vertical-align: top;\n",
       "    }\n",
       "\n",
       "    .dataframe thead th {\n",
       "        text-align: right;\n",
       "    }\n",
       "</style>\n",
       "<table border=\"1\" class=\"dataframe\">\n",
       "  <thead>\n",
       "    <tr style=\"text-align: right;\">\n",
       "      <th></th>\n",
       "      <th>AIRLINE_DELAY</th>\n",
       "      <th>AIR_SYSTEM_DELAY</th>\n",
       "      <th>SECURITY_DELAY</th>\n",
       "      <th>LATE_AIRCRAFT_DELAY</th>\n",
       "      <th>WEATHER_DELAY</th>\n",
       "    </tr>\n",
       "  </thead>\n",
       "  <tbody>\n",
       "    <tr>\n",
       "      <th>27</th>\n",
       "      <td>0.0</td>\n",
       "      <td>25.0</td>\n",
       "      <td>0.0</td>\n",
       "      <td>0.0</td>\n",
       "      <td>0.0</td>\n",
       "    </tr>\n",
       "    <tr>\n",
       "      <th>30</th>\n",
       "      <td>0.0</td>\n",
       "      <td>43.0</td>\n",
       "      <td>0.0</td>\n",
       "      <td>0.0</td>\n",
       "      <td>0.0</td>\n",
       "    </tr>\n",
       "    <tr>\n",
       "      <th>35</th>\n",
       "      <td>15.0</td>\n",
       "      <td>0.0</td>\n",
       "      <td>0.0</td>\n",
       "      <td>0.0</td>\n",
       "      <td>0.0</td>\n",
       "    </tr>\n",
       "    <tr>\n",
       "      <th>50</th>\n",
       "      <td>0.0</td>\n",
       "      <td>20.0</td>\n",
       "      <td>0.0</td>\n",
       "      <td>0.0</td>\n",
       "      <td>0.0</td>\n",
       "    </tr>\n",
       "    <tr>\n",
       "      <th>52</th>\n",
       "      <td>85.0</td>\n",
       "      <td>0.0</td>\n",
       "      <td>0.0</td>\n",
       "      <td>0.0</td>\n",
       "      <td>0.0</td>\n",
       "    </tr>\n",
       "  </tbody>\n",
       "</table>\n",
       "</div>"
      ],
      "text/plain": [
       "    AIRLINE_DELAY  AIR_SYSTEM_DELAY  SECURITY_DELAY  LATE_AIRCRAFT_DELAY  \\\n",
       "27            0.0              25.0             0.0                  0.0   \n",
       "30            0.0              43.0             0.0                  0.0   \n",
       "35           15.0               0.0             0.0                  0.0   \n",
       "50            0.0              20.0             0.0                  0.0   \n",
       "52           85.0               0.0             0.0                  0.0   \n",
       "\n",
       "    WEATHER_DELAY  \n",
       "27            0.0  \n",
       "30            0.0  \n",
       "35            0.0  \n",
       "50            0.0  \n",
       "52            0.0  "
      ]
     },
     "execution_count": 7,
     "metadata": {},
     "output_type": "execute_result"
    }
   ],
   "source": [
    "# afficher les colonnes sélectionnées où AIRLINE DELAY n'est pas nul\n",
    "df.loc[df['AIRLINE_DELAY'].notnull(), ['AIRLINE_DELAY','AIR_SYSTEM_DELAY','SECURITY_DELAY','LATE_AIRCRAFT_DELAY','WEATHER_DELAY']].head()"
   ]
  },
  {
   "cell_type": "markdown",
   "metadata": {},
   "source": [
    "Il est tout à fait logique de remplacer les données manquantes (NaN) par \"0.0\" des variables \n",
    "\n",
    "- <span style=\"color:blue;\">*AIR_SYSTEM_DELAY*</span> \n",
    "- <span style=\"color:blue;\">*SECURITY_DELAY*</span> \n",
    "- <span style=\"color:blue;\">*AIRLINE_DELAY*</span> \n",
    "- <span style=\"color:blue;\">*LATE_AIRCRAFT_DELAY*</span> .\n",
    "- <span style=\"color:blue;\">*WEATHER_DELAY*</span> \n",
    "\n",
    "car elles indiquent simplement qu'il n'y a eu aucun événement lié à ces données qui ait causé un retard sur le vol."
   ]
  },
  {
   "cell_type": "code",
   "execution_count": 8,
   "metadata": {},
   "outputs": [
    {
     "name": "stderr",
     "output_type": "stream",
     "text": [
      "C:\\Users\\debgn\\AppData\\Local\\Temp\\ipykernel_9580\\3117161740.py:1: SettingWithCopyWarning: \n",
      "A value is trying to be set on a copy of a slice from a DataFrame.\n",
      "Try using .loc[row_indexer,col_indexer] = value instead\n",
      "\n",
      "See the caveats in the documentation: https://pandas.pydata.org/pandas-docs/stable/user_guide/indexing.html#returning-a-view-versus-a-copy\n",
      "  df['AIRLINE_DELAY'] = df['AIRLINE_DELAY'].fillna(0)\n",
      "C:\\Users\\debgn\\AppData\\Local\\Temp\\ipykernel_9580\\3117161740.py:2: SettingWithCopyWarning: \n",
      "A value is trying to be set on a copy of a slice from a DataFrame.\n",
      "Try using .loc[row_indexer,col_indexer] = value instead\n",
      "\n",
      "See the caveats in the documentation: https://pandas.pydata.org/pandas-docs/stable/user_guide/indexing.html#returning-a-view-versus-a-copy\n",
      "  df['AIR_SYSTEM_DELAY'] = df['AIR_SYSTEM_DELAY'].fillna(0)\n",
      "C:\\Users\\debgn\\AppData\\Local\\Temp\\ipykernel_9580\\3117161740.py:3: SettingWithCopyWarning: \n",
      "A value is trying to be set on a copy of a slice from a DataFrame.\n",
      "Try using .loc[row_indexer,col_indexer] = value instead\n",
      "\n",
      "See the caveats in the documentation: https://pandas.pydata.org/pandas-docs/stable/user_guide/indexing.html#returning-a-view-versus-a-copy\n",
      "  df['SECURITY_DELAY'] = df['SECURITY_DELAY'].fillna(0)\n",
      "C:\\Users\\debgn\\AppData\\Local\\Temp\\ipykernel_9580\\3117161740.py:4: SettingWithCopyWarning: \n",
      "A value is trying to be set on a copy of a slice from a DataFrame.\n",
      "Try using .loc[row_indexer,col_indexer] = value instead\n",
      "\n",
      "See the caveats in the documentation: https://pandas.pydata.org/pandas-docs/stable/user_guide/indexing.html#returning-a-view-versus-a-copy\n",
      "  df['LATE_AIRCRAFT_DELAY'] = df['LATE_AIRCRAFT_DELAY'].fillna(0)\n",
      "C:\\Users\\debgn\\AppData\\Local\\Temp\\ipykernel_9580\\3117161740.py:5: SettingWithCopyWarning: \n",
      "A value is trying to be set on a copy of a slice from a DataFrame.\n",
      "Try using .loc[row_indexer,col_indexer] = value instead\n",
      "\n",
      "See the caveats in the documentation: https://pandas.pydata.org/pandas-docs/stable/user_guide/indexing.html#returning-a-view-versus-a-copy\n",
      "  df['WEATHER_DELAY'] = df['WEATHER_DELAY'].fillna(0)\n"
     ]
    }
   ],
   "source": [
    "df['AIRLINE_DELAY'] = df['AIRLINE_DELAY'].fillna(0)\n",
    "df['AIR_SYSTEM_DELAY'] = df['AIR_SYSTEM_DELAY'].fillna(0)\n",
    "df['SECURITY_DELAY'] = df['SECURITY_DELAY'].fillna(0)\n",
    "df['LATE_AIRCRAFT_DELAY'] = df['LATE_AIRCRAFT_DELAY'].fillna(0)\n",
    "df['WEATHER_DELAY'] = df['WEATHER_DELAY'].fillna(0)"
   ]
  },
  {
   "cell_type": "code",
   "execution_count": 9,
   "metadata": {},
   "outputs": [
    {
     "name": "stdout",
     "output_type": "stream",
     "text": [
      "DEPARTURE_TIME           86153\n",
      "DEPARTURE_DELAY          86153\n",
      "SCHEDULED_TIME               6\n",
      "CANCELLATION_REASON    5729195\n",
      "ARRIVAL_DELAY           105071\n",
      "dtype: int64\n"
     ]
    }
   ],
   "source": [
    "missing_values = df.isnull().sum()\n",
    "missing_values = missing_values[missing_values > 0]  # Filtrer uniquement les colonnes avec des NaN\n",
    "print(missing_values)\n"
   ]
  },
  {
   "cell_type": "markdown",
   "metadata": {},
   "source": [
    "Les valeurs nulles ont maintenant diminué de manière significative. Il ne reste que quelques attributs. Le plus frappant est cependant le *CANCELLATION_REASON* mais pour notre etude, cette variable n'est pas necessaire car nous nous focalison sur les retard, un vol annulé ne peut donc pas etre en retard puisquelle est déja annulé \n",
    "\n",
    "En Outre les variables\n",
    "\n",
    "- <span style=\"color:blue;\">*CANCELLED*</span> \n",
    "- <span style=\"color:blue;\">*DIVERTED*</span> \n",
    "\n",
    "sont aussi à eliminer car l'un rensegne sur le fait qu'un vol **ait été annulé** et l'autre qu'un avion **ait changer de destination**  dans ce cas présent nous voulant nous focalisé sur **les retard**, ces variables peuvent etre la cible d'autre analyse telle que l'annulation de vol ou le détournement de vol "
   ]
  },
  {
   "cell_type": "code",
   "execution_count": 10,
   "metadata": {},
   "outputs": [],
   "source": [
    "# Liste des colonnes à supprimer\n",
    "columns_to_drop = [\n",
    "    'CANCELLATION_REASON', \n",
    "    'CANCELLED',\n",
    "    'DIVERTED'\n",
    "]\n",
    "\n",
    "# Suppression des colonnes\n",
    "df = df.drop(columns=columns_to_drop)"
   ]
  },
  {
   "cell_type": "code",
   "execution_count": 11,
   "metadata": {},
   "outputs": [
    {
     "name": "stdout",
     "output_type": "stream",
     "text": [
      "DEPARTURE_TIME      86153\n",
      "DEPARTURE_DELAY     86153\n",
      "SCHEDULED_TIME          6\n",
      "ARRIVAL_DELAY      105071\n",
      "dtype: int64\n"
     ]
    }
   ],
   "source": [
    "missing_values = df.isnull().sum()\n",
    "missing_values = missing_values[missing_values > 0]  # Filtrer uniquement les colonnes avec des NaN\n",
    "print(missing_values)\n"
   ]
  },
  {
   "cell_type": "markdown",
   "metadata": {},
   "source": [
    "Cherchons la valeur les plus fréquentes de ces variables"
   ]
  },
  {
   "cell_type": "code",
   "execution_count": 12,
   "metadata": {},
   "outputs": [
    {
     "name": "stdout",
     "output_type": "stream",
     "text": [
      "La valeur la plus fréquente pour la variable DEPARTURE_TIME est : 555.0 avec une fréquence de : 14829\n",
      "La valeur la plus fréquente pour la variable DEPARTURE_DELAY est : -3.0 avec une fréquence de : 455407\n",
      "La valeur la plus fréquente pour la variable SCHEDULED_TIME est : 85.0 avec une fréquence de : 115062\n",
      "La valeur la plus fréquente pour la variable ARRIVAL_DELAY est : -8.0 avec une fréquence de : 176899\n"
     ]
    }
   ],
   "source": [
    "# Liste des colonnes à analyser\n",
    "columns = [\n",
    "    'DEPARTURE_TIME', \n",
    "    'DEPARTURE_DELAY', \n",
    "    'SCHEDULED_TIME',\n",
    "    'ARRIVAL_DELAY'\n",
    "\n",
    "]\n",
    "\n",
    "# Calcul et affichage de la valeur la plus fréquente et de sa fréquence pour chaque colonne\n",
    "for col in columns:\n",
    "    most_frequent_value = df[col].mode()[0]  # Récupérer la première valeur de la série retournée par mode()\n",
    "    frequency = df[col].value_counts().iloc[0]  # Fréquence de la valeur la plus fréquente\n",
    "    print(f\"La valeur la plus fréquente pour la variable {col} est : {most_frequent_value} avec une fréquence de : {frequency}\")\n"
   ]
  },
  {
   "cell_type": "markdown",
   "metadata": {},
   "source": [
    "Les heur de Départ ou encore les retard sont assez relative au Compagnie aeriens donc Nous allons remplacer les valeurs manquantes (NaN) dans les colonnes DEPARTURE_TIME, DEPARTURE_DELAY, et SCHEDULED_TIME par la valeur la plus fréquente (mode) pour chaque compagnie aérienne (AIRLINE),"
   ]
  },
  {
   "cell_type": "code",
   "execution_count": 13,
   "metadata": {},
   "outputs": [
    {
     "name": "stdout",
     "output_type": "stream",
     "text": [
      "Analyse pour la colonne DEPARTURE_TIME:\n",
      "  Pour l'Airline AA, la valeur la plus fréquente est : 655.0 avec une fréquence de : 2161\n",
      "  Pour l'Airline AS, la valeur la plus fréquente est : 655.0 avec une fréquence de : 557\n",
      "  Pour l'Airline B6, la valeur la plus fréquente est : 555.0 avec une fréquence de : 835\n",
      "  Pour l'Airline DL, la valeur la plus fréquente est : 557.0 avec une fréquence de : 2857\n",
      "  Pour l'Airline EV, la valeur la plus fréquente est : 555.0 avec une fréquence de : 2004\n",
      "  Pour l'Airline F9, la valeur la plus fréquente est : 556.0 avec une fréquence de : 336\n",
      "  Pour l'Airline HA, la valeur la plus fréquente est : 754.0 avec une fréquence de : 160\n",
      "  Pour l'Airline MQ, la valeur la plus fréquente est : 555.0 avec une fréquence de : 926\n",
      "  Pour l'Airline NK, la valeur la plus fréquente est : 556.0 avec une fréquence de : 250\n",
      "  Pour l'Airline OO, la valeur la plus fréquente est : 555.0 avec une fréquence de : 1339\n",
      "  Pour l'Airline UA, la valeur la plus fréquente est : 557.0 avec une fréquence de : 1337\n",
      "  Pour l'Airline US, la valeur la plus fréquente est : 654.0 avec une fréquence de : 563\n",
      "  Pour l'Airline VX, la valeur la plus fréquente est : 658.0 avec une fréquence de : 341\n",
      "  Pour l'Airline WN, la valeur la plus fréquente est : 555.0 avec une fréquence de : 2747\n",
      "\n",
      "\n",
      "Analyse pour la colonne DEPARTURE_DELAY:\n",
      "  Pour l'Airline AA, la valeur la plus fréquente est : -4.0 avec une fréquence de : 64155\n",
      "  Pour l'Airline AS, la valeur la plus fréquente est : -5.0 avec une fréquence de : 13057\n",
      "  Pour l'Airline B6, la valeur la plus fréquente est : -4.0 avec une fréquence de : 17263\n",
      "  Pour l'Airline DL, la valeur la plus fréquente est : -2.0 avec une fréquence de : 96817\n",
      "  Pour l'Airline EV, la valeur la plus fréquente est : -5.0 avec une fréquence de : 49535\n",
      "  Pour l'Airline F9, la valeur la plus fréquente est : -5.0 avec une fréquence de : 5415\n",
      "  Pour l'Airline HA, la valeur la plus fréquente est : -6.0 avec une fréquence de : 6934\n",
      "  Pour l'Airline MQ, la valeur la plus fréquente est : -5.0 avec une fréquence de : 22484\n",
      "  Pour l'Airline NK, la valeur la plus fréquente est : -5.0 avec une fréquence de : 6863\n",
      "  Pour l'Airline OO, la valeur la plus fréquente est : -5.0 avec une fréquence de : 46227\n",
      "  Pour l'Airline UA, la valeur la plus fréquente est : -2.0 avec une fréquence de : 32752\n",
      "  Pour l'Airline US, la valeur la plus fréquente est : -4.0 avec une fréquence de : 17837\n",
      "  Pour l'Airline VX, la valeur la plus fréquente est : -3.0 avec une fréquence de : 5066\n",
      "  Pour l'Airline WN, la valeur la plus fréquente est : -2.0 avec une fréquence de : 105761\n",
      "\n",
      "\n",
      "Analyse pour la colonne SCHEDULED_TIME:\n",
      "  Pour l'Airline AA, la valeur la plus fréquente est : 153.0 avec une fréquence de : 6199\n",
      "  Pour l'Airline AS, la valeur la plus fréquente est : 160.0 avec une fréquence de : 3533\n",
      "  Pour l'Airline B6, la valeur la plus fréquente est : 171.0 avec une fréquence de : 3471\n",
      "  Pour l'Airline DL, la valeur la plus fréquente est : 85.0 avec une fréquence de : 10497\n",
      "  Pour l'Airline EV, la valeur la plus fréquente est : 80.0 avec une fréquence de : 9087\n",
      "  Pour l'Airline F9, la valeur la plus fréquente est : 145.0 avec une fréquence de : 4281\n",
      "  Pour l'Airline HA, la valeur la plus fréquente est : 37.0 avec une fréquence de : 7937\n",
      "  Pour l'Airline MQ, la valeur la plus fréquente est : 76.0 avec une fréquence de : 5242\n",
      "  Pour l'Airline NK, la valeur la plus fréquente est : 156.0 avec une fréquence de : 1713\n",
      "  Pour l'Airline OO, la valeur la plus fréquente est : 95.0 avec une fréquence de : 8330\n",
      "  Pour l'Airline UA, la valeur la plus fréquente est : 154.0 avec une fréquence de : 4036\n",
      "  Pour l'Airline US, la valeur la plus fréquente est : 82.0 avec une fréquence de : 2593\n",
      "  Pour l'Airline VX, la valeur la plus fréquente est : 90.0 avec une fréquence de : 5019\n",
      "  Pour l'Airline WN, la valeur la plus fréquente est : 85.0 avec une fréquence de : 73407\n",
      "\n",
      "\n",
      "Analyse pour la colonne ARRIVAL_DELAY:\n",
      "  Pour l'Airline AA, la valeur la plus fréquente est : -11.0 avec une fréquence de : 20688\n",
      "  Pour l'Airline AS, la valeur la plus fréquente est : -7.0 avec une fréquence de : 5485\n",
      "  Pour l'Airline B6, la valeur la plus fréquente est : -11.0 avec une fréquence de : 7270\n",
      "  Pour l'Airline DL, la valeur la plus fréquente est : -10.0 avec une fréquence de : 30637\n",
      "  Pour l'Airline EV, la valeur la plus fréquente est : -9.0 avec une fréquence de : 17366\n",
      "  Pour l'Airline F9, la valeur la plus fréquente est : -6.0 avec une fréquence de : 2411\n",
      "  Pour l'Airline HA, la valeur la plus fréquente est : -4.0 avec une fréquence de : 4191\n",
      "  Pour l'Airline MQ, la valeur la plus fréquente est : -12.0 avec une fréquence de : 8031\n",
      "  Pour l'Airline NK, la valeur la plus fréquente est : -7.0 avec une fréquence de : 3072\n",
      "  Pour l'Airline OO, la valeur la plus fréquente est : -7.0 avec une fréquence de : 18399\n",
      "  Pour l'Airline UA, la valeur la plus fréquente est : -12.0 avec une fréquence de : 13583\n",
      "  Pour l'Airline US, la valeur la plus fréquente est : -9.0 avec une fréquence de : 6062\n",
      "  Pour l'Airline VX, la valeur la plus fréquente est : -8.0 avec une fréquence de : 1903\n",
      "  Pour l'Airline WN, la valeur la plus fréquente est : -8.0 avec une fréquence de : 42806\n",
      "\n",
      "\n"
     ]
    }
   ],
   "source": [
    "# Liste des colonnes à analyser\n",
    "columns = [\n",
    "    'DEPARTURE_TIME', \n",
    "    'DEPARTURE_DELAY', \n",
    "    'SCHEDULED_TIME',\n",
    "    'ARRIVAL_DELAY'\n",
    "]\n",
    "\n",
    "# Calcul et affichage de la valeur la plus fréquente et de sa fréquence pour chaque colonne, groupé par AIRLINE\n",
    "for col in columns:\n",
    "    print(f\"Analyse pour la colonne {col}:\")\n",
    "    \n",
    "    # Grouper par 'AIRLINE' et calculer la valeur la plus fréquente et sa fréquence pour chaque groupe\n",
    "    for airline, group in df.groupby('AIRLINE'):\n",
    "        most_frequent_value = group[col].mode()[0]  # Récupérer la première valeur la plus fréquente\n",
    "        frequency = group[col].value_counts().iloc[0]  # Fréquence de la valeur la plus fréquente\n",
    "        print(f\"  Pour l'Airline {airline}, la valeur la plus fréquente est : {most_frequent_value} avec une fréquence de : {frequency}\")\n",
    "    \n",
    "    print(\"\\n\")  # Ajouter une ligne vide pour séparer les résultats des différentes colonnes\n"
   ]
  },
  {
   "cell_type": "code",
   "execution_count": 14,
   "metadata": {},
   "outputs": [
    {
     "name": "stdout",
     "output_type": "stream",
     "text": [
      "DEPARTURE_TIME     0\n",
      "DEPARTURE_DELAY    0\n",
      "SCHEDULED_TIME     0\n",
      "ARRIVAL_DELAY      0\n",
      "dtype: int64\n"
     ]
    }
   ],
   "source": [
    "# Liste des colonnes à traiter\n",
    "columns = [\n",
    "    'DEPARTURE_TIME', \n",
    "    'DEPARTURE_DELAY', \n",
    "    'SCHEDULED_TIME',\n",
    "    'ARRIVAL_DELAY'\n",
    "]\n",
    "\n",
    "# Remplacement des valeurs manquantes par le mode de chaque groupe (par AIRLINE)\n",
    "for col in columns:\n",
    "    for airline, group in df.groupby('AIRLINE'):\n",
    "        # Calcul du mode (valeur la plus fréquente) pour la colonne dans chaque groupe (par AIRLINE)\n",
    "        most_frequent_value = group[col].mode()[0]  # Première valeur la plus fréquente\n",
    "        \n",
    "        # Remplacer les valeurs manquantes (NaN) par le mode pour ce groupe\n",
    "        df.loc[df['AIRLINE'] == airline, col] = df.loc[df['AIRLINE'] == airline, col].fillna(most_frequent_value)\n",
    "\n",
    "# Vérifier si des valeurs manquantes existent encore après remplacement\n",
    "print(df[columns].isna().sum())\n"
   ]
  },
  {
   "cell_type": "markdown",
   "metadata": {},
   "source": [
    "### 2.2 Format des Dates et heures\n"
   ]
  },
  {
   "cell_type": "code",
   "execution_count": 15,
   "metadata": {},
   "outputs": [
    {
     "name": "stdout",
     "output_type": "stream",
     "text": [
      "<class 'pandas.core.frame.DataFrame'>\n",
      "RangeIndex: 5819079 entries, 0 to 5819078\n",
      "Data columns (total 14 columns):\n",
      " #   Column               Dtype  \n",
      "---  ------               -----  \n",
      " 0   MONTH                int64  \n",
      " 1   AIRLINE              object \n",
      " 2   ORIGIN_AIRPORT       object \n",
      " 3   DESTINATION_AIRPORT  object \n",
      " 4   DEPARTURE_TIME       float64\n",
      " 5   DEPARTURE_DELAY      float64\n",
      " 6   SCHEDULED_TIME       float64\n",
      " 7   SCHEDULED_ARRIVAL    int64  \n",
      " 8   AIR_SYSTEM_DELAY     float64\n",
      " 9   SECURITY_DELAY       float64\n",
      " 10  AIRLINE_DELAY        float64\n",
      " 11  LATE_AIRCRAFT_DELAY  float64\n",
      " 12  WEATHER_DELAY        float64\n",
      " 13  ARRIVAL_DELAY        float64\n",
      "dtypes: float64(9), int64(2), object(3)\n",
      "memory usage: 621.5+ MB\n"
     ]
    }
   ],
   "source": [
    "df.info()"
   ]
  },
  {
   "cell_type": "markdown",
   "metadata": {},
   "source": [
    "il est neccessaire de convertir les variables donnant des information sur le temp dans un un format adequat (datetime)\n",
    "les variables **DEPARTURE_TIME...**, l'heure du décollage est codée sous forme de float où les deux premiers chiffres indiquent l'heure et les deux derniers, les minutes."
   ]
  },
  {
   "cell_type": "code",
   "execution_count": 16,
   "metadata": {},
   "outputs": [
    {
     "name": "stdout",
     "output_type": "stream",
     "text": [
      "   DEPARTURE_TIME_HOUR  DEPARTURE_TIME_MINUTE\n",
      "0                   23                     54\n",
      "1                    0                      2\n",
      "2                    0                     18\n",
      "3                    0                     15\n",
      "4                    0                     24\n"
     ]
    }
   ],
   "source": [
    "import pandas as pd\n",
    "\n",
    "# Fonction pour convertir le format horaire float (HHMM) en datetime\n",
    "def convert_to_datetime(time_float):\n",
    "    if pd.isna(time_float):  # Gérer les NaN\n",
    "        return time_float\n",
    "    hours = int(time_float // 100)  # Récupérer les heures (premiers 2 chiffres)\n",
    "    minutes = int(time_float % 100)  # Récupérer les minutes (derniers 2 chiffres)\n",
    "    \n",
    "    # Si l'heure est 24, la remplacer par 00\n",
    "    if hours == 24:\n",
    "        hours = 0\n",
    "        minutes = 0\n",
    "    \n",
    "    # Retourner un objet datetime avec uniquement l'heure et les minutes\n",
    "    return pd.to_datetime(f'{hours:02d}:{minutes:02d}', format='%H:%M')\n",
    "\n",
    "# Liste des colonnes à convertir\n",
    "time_columns = [\n",
    "    'DEPARTURE_TIME', \n",
    "]\n",
    "\n",
    "\n",
    "# Convertir les valeurs de temps en datetime pour chaque colonne\n",
    "df['DEPARTURE_TIME'] = df['DEPARTURE_TIME'].apply(lambda x: convert_to_datetime(x))\n",
    "# Extraire les heures et les minutes en colonnes séparées\n",
    "df['DEPARTURE_TIME_HOUR'] = df['DEPARTURE_TIME'].dt.hour\n",
    "df['DEPARTURE_TIME_MINUTE'] = df['DEPARTURE_TIME'].dt.minute\n",
    "\n",
    "\n",
    "\n",
    "df['SCHEDULED_ARRIVAL'] = df['SCHEDULED_ARRIVAL'].apply(lambda x: convert_to_datetime(x))\n",
    "df['SCHEDULED_ARRIVAL_HOUR'] = df['SCHEDULED_ARRIVAL'].dt.hour\n",
    "df['SCHEDULED_ARRIVAL_MINUTE'] = df['SCHEDULED_ARRIVAL'].dt.minute\n",
    "\n",
    "    \n",
    "\n",
    "# Vérification après conversion et séparation\n",
    "print(df[['DEPARTURE_TIME_HOUR', 'DEPARTURE_TIME_MINUTE']].head())  # Affichage des premières lignes pour vérifier\n"
   ]
  },
  {
   "cell_type": "code",
   "execution_count": 17,
   "metadata": {},
   "outputs": [
    {
     "data": {
      "text/html": [
       "<div>\n",
       "<style scoped>\n",
       "    .dataframe tbody tr th:only-of-type {\n",
       "        vertical-align: middle;\n",
       "    }\n",
       "\n",
       "    .dataframe tbody tr th {\n",
       "        vertical-align: top;\n",
       "    }\n",
       "\n",
       "    .dataframe thead th {\n",
       "        text-align: right;\n",
       "    }\n",
       "</style>\n",
       "<table border=\"1\" class=\"dataframe\">\n",
       "  <thead>\n",
       "    <tr style=\"text-align: right;\">\n",
       "      <th></th>\n",
       "      <th>MONTH</th>\n",
       "      <th>AIRLINE</th>\n",
       "      <th>ORIGIN_AIRPORT</th>\n",
       "      <th>DESTINATION_AIRPORT</th>\n",
       "      <th>DEPARTURE_DELAY</th>\n",
       "      <th>SCHEDULED_TIME</th>\n",
       "      <th>AIR_SYSTEM_DELAY</th>\n",
       "      <th>SECURITY_DELAY</th>\n",
       "      <th>AIRLINE_DELAY</th>\n",
       "      <th>LATE_AIRCRAFT_DELAY</th>\n",
       "      <th>WEATHER_DELAY</th>\n",
       "      <th>ARRIVAL_DELAY</th>\n",
       "      <th>DEPARTURE_TIME_HOUR</th>\n",
       "      <th>DEPARTURE_TIME_MINUTE</th>\n",
       "      <th>SCHEDULED_ARRIVAL_HOUR</th>\n",
       "      <th>SCHEDULED_ARRIVAL_MINUTE</th>\n",
       "    </tr>\n",
       "  </thead>\n",
       "  <tbody>\n",
       "    <tr>\n",
       "      <th>0</th>\n",
       "      <td>1</td>\n",
       "      <td>AS</td>\n",
       "      <td>ANC</td>\n",
       "      <td>SEA</td>\n",
       "      <td>-11.0</td>\n",
       "      <td>205.0</td>\n",
       "      <td>0.0</td>\n",
       "      <td>0.0</td>\n",
       "      <td>0.0</td>\n",
       "      <td>0.0</td>\n",
       "      <td>0.0</td>\n",
       "      <td>-22.0</td>\n",
       "      <td>23</td>\n",
       "      <td>54</td>\n",
       "      <td>4</td>\n",
       "      <td>30</td>\n",
       "    </tr>\n",
       "  </tbody>\n",
       "</table>\n",
       "</div>"
      ],
      "text/plain": [
       "   MONTH AIRLINE ORIGIN_AIRPORT DESTINATION_AIRPORT  DEPARTURE_DELAY  \\\n",
       "0      1      AS            ANC                 SEA            -11.0   \n",
       "\n",
       "   SCHEDULED_TIME  AIR_SYSTEM_DELAY  SECURITY_DELAY  AIRLINE_DELAY  \\\n",
       "0           205.0               0.0             0.0            0.0   \n",
       "\n",
       "   LATE_AIRCRAFT_DELAY  WEATHER_DELAY  ARRIVAL_DELAY  DEPARTURE_TIME_HOUR  \\\n",
       "0                  0.0            0.0          -22.0                   23   \n",
       "\n",
       "   DEPARTURE_TIME_MINUTE  SCHEDULED_ARRIVAL_HOUR  SCHEDULED_ARRIVAL_MINUTE  \n",
       "0                     54                       4                        30  "
      ]
     },
     "execution_count": 17,
     "metadata": {},
     "output_type": "execute_result"
    }
   ],
   "source": [
    "# 6. Supprimer la colonne SCHEDULED_ARRIVAL et DEPARTURE_TIME originale\n",
    "df = df.drop(columns=['SCHEDULED_ARRIVAL'])\n",
    "df= df.drop(columns=['DEPARTURE_TIME'])\n",
    "df.head(1)\n"
   ]
  },
  {
   "cell_type": "markdown",
   "metadata": {},
   "source": [
    "### 1.3- Encoder les variable categorielles "
   ]
  },
  {
   "cell_type": "markdown",
   "metadata": {},
   "source": [
    "On va créer une colonne binaire pour chaque valeur unique dans les colonnes spécifiées (iAIRLINE, ORIGIN_AIRPORT, et DESTINATION_AIRPORT) **get_dummies()**."
   ]
  },
  {
   "cell_type": "code",
   "execution_count": 18,
   "metadata": {},
   "outputs": [
    {
     "name": "stdout",
     "output_type": "stream",
     "text": [
      "   MONTH ORIGIN_AIRPORT DESTINATION_AIRPORT  DEPARTURE_DELAY  SCHEDULED_TIME  \\\n",
      "0      1            ANC                 SEA            -11.0           205.0   \n",
      "1      1            LAX                 PBI             -8.0           280.0   \n",
      "2      1            SFO                 CLT             -2.0           286.0   \n",
      "3      1            LAX                 MIA             -5.0           285.0   \n",
      "4      1            SEA                 ANC             -1.0           235.0   \n",
      "\n",
      "   AIR_SYSTEM_DELAY  SECURITY_DELAY  AIRLINE_DELAY  LATE_AIRCRAFT_DELAY  \\\n",
      "0               0.0             0.0            0.0                  0.0   \n",
      "1               0.0             0.0            0.0                  0.0   \n",
      "2               0.0             0.0            0.0                  0.0   \n",
      "3               0.0             0.0            0.0                  0.0   \n",
      "4               0.0             0.0            0.0                  0.0   \n",
      "\n",
      "   WEATHER_DELAY  ARRIVAL_DELAY  DEPARTURE_TIME_HOUR  DEPARTURE_TIME_MINUTE  \\\n",
      "0            0.0          -22.0                   23                     54   \n",
      "1            0.0           -9.0                    0                      2   \n",
      "2            0.0            5.0                    0                     18   \n",
      "3            0.0           -9.0                    0                     15   \n",
      "4            0.0          -21.0                    0                     24   \n",
      "\n",
      "   SCHEDULED_ARRIVAL_HOUR  SCHEDULED_ARRIVAL_MINUTE  AIRLINE_AA  AIRLINE_AS  \\\n",
      "0                       4                        30         0.0         1.0   \n",
      "1                       7                        50         1.0         0.0   \n",
      "2                       8                         6         0.0         0.0   \n",
      "3                       8                         5         1.0         0.0   \n",
      "4                       3                        20         0.0         1.0   \n",
      "\n",
      "   AIRLINE_B6  AIRLINE_DL  AIRLINE_EV  AIRLINE_F9  AIRLINE_HA  AIRLINE_MQ  \\\n",
      "0         0.0         0.0         0.0         0.0         0.0         0.0   \n",
      "1         0.0         0.0         0.0         0.0         0.0         0.0   \n",
      "2         0.0         0.0         0.0         0.0         0.0         0.0   \n",
      "3         0.0         0.0         0.0         0.0         0.0         0.0   \n",
      "4         0.0         0.0         0.0         0.0         0.0         0.0   \n",
      "\n",
      "   AIRLINE_NK  AIRLINE_OO  AIRLINE_UA  AIRLINE_US  AIRLINE_VX  AIRLINE_WN  \n",
      "0         0.0         0.0         0.0         0.0         0.0         0.0  \n",
      "1         0.0         0.0         0.0         0.0         0.0         0.0  \n",
      "2         0.0         0.0         0.0         1.0         0.0         0.0  \n",
      "3         0.0         0.0         0.0         0.0         0.0         0.0  \n",
      "4         0.0         0.0         0.0         0.0         0.0         0.0  \n"
     ]
    }
   ],
   "source": [
    "# Appliquer get_dummies pour chaque colonne catégorielle\n",
    "df_encoded = pd.get_dummies(df, columns=['AIRLINE'], dtype=float)\n",
    "\n",
    "# Affichage des premières lignes pour vérifier\n",
    "print(df_encoded.head())\n"
   ]
  },
  {
   "cell_type": "code",
   "execution_count": 19,
   "metadata": {},
   "outputs": [
    {
     "name": "stdout",
     "output_type": "stream",
     "text": [
      "Nombre d'aéroports différents dans ORIGIN_AIRPORT : 930\n"
     ]
    }
   ],
   "source": [
    "# Compter le nombre d'aéroports différents dans la colonne 'ORIGIN_AIRPORT'\n",
    "num_unique_airports = df['ORIGIN_AIRPORT'].nunique()\n",
    "\n",
    "# Afficher le nombre d'aéroports différents\n",
    "print(f\"Nombre d'aéroports différents dans ORIGIN_AIRPORT : {num_unique_airports}\")\n"
   ]
  },
  {
   "cell_type": "markdown",
   "metadata": {},
   "source": [
    "nos attributs catégoriels ont un grand nombre de catégories (930 pour les aéroports), on ne peut pas utiliser **get_dummies** car nous auront un nombre de colnne excessive, nous allons utilisé **Label Encoding**\n",
    "\n",
    "* **Label Encoding** Le Label Encoding attribue une valeur numérique unique à chaque catégorie. Cela permet de réduire la taille des données, mais cela peut introduire un ordre arbitraire entre les catégories, ce qui peut être problématique pour certains modèles."
   ]
  },
  {
   "cell_type": "code",
   "execution_count": 25,
   "metadata": {},
   "outputs": [
    {
     "data": {
      "image/png": "[encoded data removed]",
      "text/plain": [
       "<IPython.core.display.Image object>"
      ]
     },
     "execution_count": 25,
     "metadata": {
      "image/png": {
       "height": 200,
       "width": 300
      }
     },
     "output_type": "execute_result"
    }
   ],
   "source": [
    "Image(filename=\"images/label encoding.png\", width=300, height=200)"
   ]
  },
  {
   "cell_type": "code",
   "execution_count": null,
   "metadata": {},
   "outputs": [
    {
     "ename": "ValueError",
     "evalue": "y contains previously unseen labels: 'ANC'",
     "output_type": "error",
     "traceback": [
      "\u001b[1;31m---------------------------------------------------------------------------\u001b[0m",
      "\u001b[1;31mKeyError\u001b[0m                                  Traceback (most recent call last)",
      "File \u001b[1;32mc:\\Users\\debgn\\anaconda3\\envs\\ml_env\\lib\\site-packages\\sklearn\\utils\\_encode.py:225\u001b[0m, in \u001b[0;36m_encode\u001b[1;34m(values, uniques, check_unknown)\u001b[0m\n\u001b[0;32m    224\u001b[0m \u001b[38;5;28;01mtry\u001b[39;00m:\n\u001b[1;32m--> 225\u001b[0m     \u001b[38;5;28;01mreturn\u001b[39;00m \u001b[43m_map_to_integer\u001b[49m\u001b[43m(\u001b[49m\u001b[43mvalues\u001b[49m\u001b[43m,\u001b[49m\u001b[43m \u001b[49m\u001b[43muniques\u001b[49m\u001b[43m)\u001b[49m\n\u001b[0;32m    226\u001b[0m \u001b[38;5;28;01mexcept\u001b[39;00m \u001b[38;5;167;01mKeyError\u001b[39;00m \u001b[38;5;28;01mas\u001b[39;00m e:\n",
      "File \u001b[1;32mc:\\Users\\debgn\\anaconda3\\envs\\ml_env\\lib\\site-packages\\sklearn\\utils\\_encode.py:165\u001b[0m, in \u001b[0;36m_map_to_integer\u001b[1;34m(values, uniques)\u001b[0m\n\u001b[0;32m    164\u001b[0m table \u001b[38;5;241m=\u001b[39m _nandict({val: i \u001b[38;5;28;01mfor\u001b[39;00m i, val \u001b[38;5;129;01min\u001b[39;00m \u001b[38;5;28menumerate\u001b[39m(uniques)})\n\u001b[1;32m--> 165\u001b[0m \u001b[38;5;28;01mreturn\u001b[39;00m np\u001b[38;5;241m.\u001b[39marray([table[v] \u001b[38;5;28;01mfor\u001b[39;00m v \u001b[38;5;129;01min\u001b[39;00m values])\n",
      "File \u001b[1;32mc:\\Users\\debgn\\anaconda3\\envs\\ml_env\\lib\\site-packages\\sklearn\\utils\\_encode.py:165\u001b[0m, in \u001b[0;36m<listcomp>\u001b[1;34m(.0)\u001b[0m\n\u001b[0;32m    164\u001b[0m table \u001b[38;5;241m=\u001b[39m _nandict({val: i \u001b[38;5;28;01mfor\u001b[39;00m i, val \u001b[38;5;129;01min\u001b[39;00m \u001b[38;5;28menumerate\u001b[39m(uniques)})\n\u001b[1;32m--> 165\u001b[0m \u001b[38;5;28;01mreturn\u001b[39;00m np\u001b[38;5;241m.\u001b[39marray([\u001b[43mtable\u001b[49m\u001b[43m[\u001b[49m\u001b[43mv\u001b[49m\u001b[43m]\u001b[49m \u001b[38;5;28;01mfor\u001b[39;00m v \u001b[38;5;129;01min\u001b[39;00m values])\n",
      "File \u001b[1;32mc:\\Users\\debgn\\anaconda3\\envs\\ml_env\\lib\\site-packages\\sklearn\\utils\\_encode.py:159\u001b[0m, in \u001b[0;36m_nandict.__missing__\u001b[1;34m(self, key)\u001b[0m\n\u001b[0;32m    158\u001b[0m     \u001b[38;5;28;01mreturn\u001b[39;00m \u001b[38;5;28mself\u001b[39m\u001b[38;5;241m.\u001b[39mnan_value\n\u001b[1;32m--> 159\u001b[0m \u001b[38;5;28;01mraise\u001b[39;00m \u001b[38;5;167;01mKeyError\u001b[39;00m(key)\n",
      "\u001b[1;31mKeyError\u001b[0m: 'ANC'",
      "\nDuring handling of the above exception, another exception occurred:\n",
      "\u001b[1;31mValueError\u001b[0m                                Traceback (most recent call last)",
      "Cell \u001b[1;32mIn[20], line 21\u001b[0m\n\u001b[0;32m     18\u001b[0m airport_encoder\u001b[38;5;241m.\u001b[39mfit(airports)\n\u001b[0;32m     20\u001b[0m \u001b[38;5;66;03m# Encoder les colonnes\u001b[39;00m\n\u001b[1;32m---> 21\u001b[0m df_encoded[\u001b[38;5;124m'\u001b[39m\u001b[38;5;124mORIGIN_AIRPORT\u001b[39m\u001b[38;5;124m'\u001b[39m] \u001b[38;5;241m=\u001b[39m \u001b[43mairport_encoder\u001b[49m\u001b[38;5;241;43m.\u001b[39;49m\u001b[43mtransform\u001b[49m\u001b[43m(\u001b[49m\u001b[43mdf_encoded\u001b[49m\u001b[43m[\u001b[49m\u001b[38;5;124;43m'\u001b[39;49m\u001b[38;5;124;43mORIGIN_AIRPORT\u001b[39;49m\u001b[38;5;124;43m'\u001b[39;49m\u001b[43m]\u001b[49m\u001b[43m)\u001b[49m\n\u001b[0;32m     22\u001b[0m df_encoded[\u001b[38;5;124m'\u001b[39m\u001b[38;5;124mDESTINATION_AIRPORT\u001b[39m\u001b[38;5;124m'\u001b[39m] \u001b[38;5;241m=\u001b[39m airport_encoder\u001b[38;5;241m.\u001b[39mtransform(df_encoded[\u001b[38;5;124m'\u001b[39m\u001b[38;5;124mDESTINATION_AIRPORT\u001b[39m\u001b[38;5;124m'\u001b[39m])\n\u001b[0;32m     24\u001b[0m \u001b[38;5;66;03m# Sauvegarder l'encodeur pour un usage futur\u001b[39;00m\n",
      "File \u001b[1;32mc:\\Users\\debgn\\anaconda3\\envs\\ml_env\\lib\\site-packages\\sklearn\\preprocessing\\_label.py:137\u001b[0m, in \u001b[0;36mLabelEncoder.transform\u001b[1;34m(self, y)\u001b[0m\n\u001b[0;32m    134\u001b[0m \u001b[38;5;28;01mif\u001b[39;00m _num_samples(y) \u001b[38;5;241m==\u001b[39m \u001b[38;5;241m0\u001b[39m:\n\u001b[0;32m    135\u001b[0m     \u001b[38;5;28;01mreturn\u001b[39;00m np\u001b[38;5;241m.\u001b[39marray([])\n\u001b[1;32m--> 137\u001b[0m \u001b[38;5;28;01mreturn\u001b[39;00m \u001b[43m_encode\u001b[49m\u001b[43m(\u001b[49m\u001b[43my\u001b[49m\u001b[43m,\u001b[49m\u001b[43m \u001b[49m\u001b[43muniques\u001b[49m\u001b[38;5;241;43m=\u001b[39;49m\u001b[38;5;28;43mself\u001b[39;49m\u001b[38;5;241;43m.\u001b[39;49m\u001b[43mclasses_\u001b[49m\u001b[43m)\u001b[49m\n",
      "File \u001b[1;32mc:\\Users\\debgn\\anaconda3\\envs\\ml_env\\lib\\site-packages\\sklearn\\utils\\_encode.py:227\u001b[0m, in \u001b[0;36m_encode\u001b[1;34m(values, uniques, check_unknown)\u001b[0m\n\u001b[0;32m    225\u001b[0m         \u001b[38;5;28;01mreturn\u001b[39;00m _map_to_integer(values, uniques)\n\u001b[0;32m    226\u001b[0m     \u001b[38;5;28;01mexcept\u001b[39;00m \u001b[38;5;167;01mKeyError\u001b[39;00m \u001b[38;5;28;01mas\u001b[39;00m e:\n\u001b[1;32m--> 227\u001b[0m         \u001b[38;5;28;01mraise\u001b[39;00m \u001b[38;5;167;01mValueError\u001b[39;00m(\u001b[38;5;124mf\u001b[39m\u001b[38;5;124m\"\u001b[39m\u001b[38;5;124my contains previously unseen labels: \u001b[39m\u001b[38;5;132;01m{\u001b[39;00m\u001b[38;5;28mstr\u001b[39m(e)\u001b[38;5;132;01m}\u001b[39;00m\u001b[38;5;124m\"\u001b[39m)\n\u001b[0;32m    228\u001b[0m \u001b[38;5;28;01melse\u001b[39;00m:\n\u001b[0;32m    229\u001b[0m     \u001b[38;5;28;01mif\u001b[39;00m check_unknown:\n",
      "\u001b[1;31mValueError\u001b[0m: y contains previously unseen labels: 'ANC'"
     ]
    }
   ],
   "source": [
    "from sklearn.preprocessing import LabelEncoder\n",
    "\n",
    "# Convertir les valeurs des colonnes en chaînes de caractères\n",
    "df_encoded['ORIGIN_AIRPORT'] = df['ORIGIN_AIRPORT'].astype(str)\n",
    "df_encoded['DESTINATION_AIRPORT'] = df['DESTINATION_AIRPORT'].astype(str)\n",
    "\n",
    "\n",
    "\n",
    "from sklearn.preprocessing import LabelEncoder\n",
    "import numpy as np\n",
    "import pickle\n",
    "\n",
    "# Combiner les deux colonnes pour créer un encodage unique\n",
    "airports = np.unique(df_encoded['ORIGIN_AIRPORT'] + df_encoded['DESTINATION_AIRPORT'])\n",
    "\n",
    "# Créer un LabelEncoder pour les aéroports\n",
    "airport_encoder = LabelEncoder()\n",
    "airport_encoder.fit(airports)\n",
    "\n",
    "# Encoder les colonnes\n",
    "df_encoded['ORIGIN_AIRPORT'] = airport_encoder.transform(df_encoded['ORIGIN_AIRPORT'])\n",
    "df_encoded['DESTINATION_AIRPORT'] = airport_encoder.transform(df_encoded['DESTINATION_AIRPORT'])\n",
    "\n",
    "\n"
   ]
  },
  {
   "cell_type": "markdown",
   "metadata": {},
   "source": [
    "### Selection des caractéristiques"
   ]
  },
  {
   "cell_type": "code",
   "execution_count": null,
   "metadata": {},
   "outputs": [],
   "source": [
    "# Séparer les caractéristiques (X) et la variable cible (y)\n",
    "X = df_encoded.drop(columns=['ARRIVAL_DELAY'])  # Toutes les colonnes sauf ARRIVAL_DELAY\n",
    "y = df_encoded['ARRIVAL_DELAY']  # La variable cible\n",
    "\n"
   ]
  },
  {
   "cell_type": "code",
   "execution_count": null,
   "metadata": {},
   "outputs": [
    {
     "name": "stdout",
     "output_type": "stream",
     "text": [
      "Taille de l'ensemble d'entraînement X: (4655263, 27)\n",
      "Taille de l'ensemble de test X: (1163816, 27)\n",
      "Taille de l'ensemble d'entraînement y: (4655263,)\n",
      "Taille de l'ensemble de test y: (1163816,)\n"
     ]
    }
   ],
   "source": [
    "from sklearn.model_selection import train_test_split\n",
    "\n",
    "# Diviser l'ensemble de données en un ensemble d'entraînement et de test (80% / 20% )\n",
    "X_train, X_test, y_train, y_test = train_test_split(X, y, test_size=0.2, random_state=42)\n",
    "\n",
    "# Vérification des tailles des ensembles\n",
    "print(f\"Taille de l'ensemble d'entraînement X: {X_train.shape}\")\n",
    "print(f\"Taille de l'ensemble de test X: {X_test.shape}\")\n",
    "print(f\"Taille de l'ensemble d'entraînement y: {y_train.shape}\")\n",
    "print(f\"Taille de l'ensemble de test y: {y_test.shape}\")\n"
   ]
  },
  {
   "cell_type": "code",
   "execution_count": null,
   "metadata": {},
   "outputs": [],
   "source": [
    "#Save the training and testing data files to be used in testing later\n",
    "df_train = pd.concat([X_train,y_train],axis=1)\n",
    "df_test = pd.concat([X_test,y_test],axis=1)\n",
    "df_train.to_csv(\"../data/train_data.csv\",index=False)\n",
    "df_test.to_csv(\"../data/test_data.csv\",index=False)"
   ]
  }
 ],
 "metadata": {
  "kernelspec": {
   "display_name": "ml_env",
   "language": "python",
   "name": "python3"
  },
  "language_info": {
   "codemirror_mode": {
    "name": "ipython",
    "version": 3
   },
   "file_extension": ".py",
   "mimetype": "text/x-python",
   "name": "python",
   "nbconvert_exporter": "python",
   "pygments_lexer": "ipython3",
   "version": "3.9.15"
  }
 },
 "nbformat": 4,
 "nbformat_minor": 2
}
