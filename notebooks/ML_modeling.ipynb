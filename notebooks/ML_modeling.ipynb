{
 "cells": [
  {
   "cell_type": "code",
   "execution_count": 2,
   "metadata": {},
   "outputs": [],
   "source": [
    "import pandas as pd\n",
    "import seaborn as sns\n",
    "from sklearn.linear_model import LogisticRegression\n",
    "from sklearn.ensemble import RandomForestClassifier\n",
    "from xgboost import XGBClassifier\n",
    "import datetime\n",
    "import warnings\n",
    "warnings.filterwarnings(\"ignore\")\n",
    "from IPython.display import Image\n",
    "import mlflow\n",
    "\n"
   ]
  },
  {
   "cell_type": "code",
   "execution_count": 3,
   "metadata": {},
   "outputs": [],
   "source": [
    "version = \"v1.0\"\n",
    "data_url = \"../data/flights.csv\""
   ]
  },
  {
   "cell_type": "code",
   "execution_count": 4,
   "metadata": {},
   "outputs": [],
   "source": [
    "import sys  \n",
    "#sys.path.insert(0, 'C:/Users/debgn/MLOPS/backend/src/')\n",
    "sys.path.insert(0, '../backend/src/')\n",
    "import data_preprocessing_training\n",
    "from data_preprocessing_training import preprocess_and_split"
   ]
  },
  {
   "cell_type": "code",
   "execution_count": 5,
   "metadata": {},
   "outputs": [],
   "source": [
    "from dotenv import load_dotenv\n",
    "import os\n",
    "load_dotenv(\"../backend/src/secret.env\")\n",
    "\n",
    "DagsHub_username = os.getenv(\"DAGHUB_USERNAME\")\n",
    "DagsHub_token=os.getenv(\"DAGHUB_PASSWORD\")"
   ]
  },
  {
   "cell_type": "code",
   "execution_count": 6,
   "metadata": {},
   "outputs": [],
   "source": [
    "import os\n",
    "os.environ['MLFLOW_TRACKING_USERNAME']= DagsHub_username\n",
    "os.environ['MLFLOW_TRACKING_PASSWORD'] = DagsHub_token"
   ]
  },
  {
   "cell_type": "code",
   "execution_count": 7,
   "metadata": {},
   "outputs": [
    {
     "data": {
      "text/plain": [
       "<Experiment: artifact_location='mlflow-artifacts:/485747da72104056a246976d414a7ec0', creation_time=1734056596207, experiment_id='0', last_update_time=1734056596207, lifecycle_stage='active', name='flight-delay-experiment', tags={}>"
      ]
     },
     "execution_count": 7,
     "metadata": {},
     "output_type": "execute_result"
    }
   ],
   "source": [
    "#setup mlflow\n",
    "mlflow.set_tracking_uri('https://dagshub.com/deb.gnuito/MLOPS.mlflow') #your mlfow tracking uri\n",
    "mlflow.set_experiment(\"flight-delay-experiment\")"
   ]
  },
  {
   "cell_type": "code",
   "execution_count": 9,
   "metadata": {},
   "outputs": [],
   "source": [
    "#read the data\n",
    "df = pd.read_csv(data_url)"
   ]
  },
  {
   "cell_type": "code",
   "execution_count": 10,
   "metadata": {},
   "outputs": [
    {
     "data": {
      "text/plain": [
       "(5819079, 31)"
      ]
     },
     "execution_count": 10,
     "metadata": {},
     "output_type": "execute_result"
    }
   ],
   "source": [
    "#shape of the data\n",
    "df.shape"
   ]
  },
  {
   "cell_type": "code",
   "execution_count": 11,
   "metadata": {},
   "outputs": [
    {
     "name": "stdout",
     "output_type": "stream",
     "text": [
      "Aucun changement détecté pour airport_encoder.pickle.\n"
     ]
    }
   ],
   "source": [
    "#cleaning and preprocessing\n",
    "X_train,X_test,y_train,y_test = preprocess_and_split(df)"
   ]
  },
  {
   "cell_type": "code",
   "execution_count": 12,
   "metadata": {},
   "outputs": [
    {
     "data": {
      "text/html": [
       "<div>\n",
       "<style scoped>\n",
       "    .dataframe tbody tr th:only-of-type {\n",
       "        vertical-align: middle;\n",
       "    }\n",
       "\n",
       "    .dataframe tbody tr th {\n",
       "        vertical-align: top;\n",
       "    }\n",
       "\n",
       "    .dataframe thead th {\n",
       "        text-align: right;\n",
       "    }\n",
       "</style>\n",
       "<table border=\"1\" class=\"dataframe\">\n",
       "  <thead>\n",
       "    <tr style=\"text-align: right;\">\n",
       "      <th></th>\n",
       "      <th>MONTH</th>\n",
       "      <th>ORIGIN_AIRPORT</th>\n",
       "      <th>DESTINATION_AIRPORT</th>\n",
       "      <th>DEPARTURE_DELAY</th>\n",
       "      <th>SCHEDULED_TIME</th>\n",
       "      <th>AIR_SYSTEM_DELAY</th>\n",
       "      <th>SECURITY_DELAY</th>\n",
       "      <th>AIRLINE_DELAY</th>\n",
       "      <th>LATE_AIRCRAFT_DELAY</th>\n",
       "      <th>WEATHER_DELAY</th>\n",
       "      <th>...</th>\n",
       "      <th>AIRLINE_EV</th>\n",
       "      <th>AIRLINE_F9</th>\n",
       "      <th>AIRLINE_HA</th>\n",
       "      <th>AIRLINE_MQ</th>\n",
       "      <th>AIRLINE_NK</th>\n",
       "      <th>AIRLINE_OO</th>\n",
       "      <th>AIRLINE_UA</th>\n",
       "      <th>AIRLINE_US</th>\n",
       "      <th>AIRLINE_VX</th>\n",
       "      <th>AIRLINE_WN</th>\n",
       "    </tr>\n",
       "  </thead>\n",
       "  <tbody>\n",
       "    <tr>\n",
       "      <th>5272295</th>\n",
       "      <td>11</td>\n",
       "      <td>497</td>\n",
       "      <td>450</td>\n",
       "      <td>-6.0</td>\n",
       "      <td>80.0</td>\n",
       "      <td>0.0</td>\n",
       "      <td>0.0</td>\n",
       "      <td>0.0</td>\n",
       "      <td>0.0</td>\n",
       "      <td>0.0</td>\n",
       "      <td>...</td>\n",
       "      <td>0.0</td>\n",
       "      <td>0.0</td>\n",
       "      <td>0.0</td>\n",
       "      <td>0.0</td>\n",
       "      <td>0.0</td>\n",
       "      <td>0.0</td>\n",
       "      <td>0.0</td>\n",
       "      <td>0.0</td>\n",
       "      <td>0.0</td>\n",
       "      <td>1.0</td>\n",
       "    </tr>\n",
       "    <tr>\n",
       "      <th>5678727</th>\n",
       "      <td>12</td>\n",
       "      <td>523</td>\n",
       "      <td>391</td>\n",
       "      <td>8.0</td>\n",
       "      <td>144.0</td>\n",
       "      <td>9.0</td>\n",
       "      <td>0.0</td>\n",
       "      <td>0.0</td>\n",
       "      <td>8.0</td>\n",
       "      <td>0.0</td>\n",
       "      <td>...</td>\n",
       "      <td>0.0</td>\n",
       "      <td>0.0</td>\n",
       "      <td>0.0</td>\n",
       "      <td>0.0</td>\n",
       "      <td>0.0</td>\n",
       "      <td>0.0</td>\n",
       "      <td>0.0</td>\n",
       "      <td>0.0</td>\n",
       "      <td>0.0</td>\n",
       "      <td>0.0</td>\n",
       "    </tr>\n",
       "    <tr>\n",
       "      <th>2102837</th>\n",
       "      <td>5</td>\n",
       "      <td>576</td>\n",
       "      <td>393</td>\n",
       "      <td>-1.0</td>\n",
       "      <td>74.0</td>\n",
       "      <td>0.0</td>\n",
       "      <td>0.0</td>\n",
       "      <td>0.0</td>\n",
       "      <td>0.0</td>\n",
       "      <td>0.0</td>\n",
       "      <td>...</td>\n",
       "      <td>0.0</td>\n",
       "      <td>0.0</td>\n",
       "      <td>0.0</td>\n",
       "      <td>0.0</td>\n",
       "      <td>0.0</td>\n",
       "      <td>0.0</td>\n",
       "      <td>0.0</td>\n",
       "      <td>0.0</td>\n",
       "      <td>0.0</td>\n",
       "      <td>0.0</td>\n",
       "    </tr>\n",
       "    <tr>\n",
       "      <th>5765214</th>\n",
       "      <td>12</td>\n",
       "      <td>502</td>\n",
       "      <td>489</td>\n",
       "      <td>-2.0</td>\n",
       "      <td>125.0</td>\n",
       "      <td>0.0</td>\n",
       "      <td>0.0</td>\n",
       "      <td>0.0</td>\n",
       "      <td>0.0</td>\n",
       "      <td>0.0</td>\n",
       "      <td>...</td>\n",
       "      <td>0.0</td>\n",
       "      <td>0.0</td>\n",
       "      <td>0.0</td>\n",
       "      <td>0.0</td>\n",
       "      <td>0.0</td>\n",
       "      <td>0.0</td>\n",
       "      <td>0.0</td>\n",
       "      <td>0.0</td>\n",
       "      <td>0.0</td>\n",
       "      <td>1.0</td>\n",
       "    </tr>\n",
       "    <tr>\n",
       "      <th>950249</th>\n",
       "      <td>3</td>\n",
       "      <td>346</td>\n",
       "      <td>373</td>\n",
       "      <td>-10.0</td>\n",
       "      <td>143.0</td>\n",
       "      <td>0.0</td>\n",
       "      <td>0.0</td>\n",
       "      <td>0.0</td>\n",
       "      <td>0.0</td>\n",
       "      <td>0.0</td>\n",
       "      <td>...</td>\n",
       "      <td>0.0</td>\n",
       "      <td>0.0</td>\n",
       "      <td>0.0</td>\n",
       "      <td>0.0</td>\n",
       "      <td>0.0</td>\n",
       "      <td>0.0</td>\n",
       "      <td>0.0</td>\n",
       "      <td>0.0</td>\n",
       "      <td>0.0</td>\n",
       "      <td>0.0</td>\n",
       "    </tr>\n",
       "  </tbody>\n",
       "</table>\n",
       "<p>5 rows × 28 columns</p>\n",
       "</div>"
      ],
      "text/plain": [
       "         MONTH  ORIGIN_AIRPORT  DESTINATION_AIRPORT  DEPARTURE_DELAY  \\\n",
       "5272295     11             497                  450             -6.0   \n",
       "5678727     12             523                  391              8.0   \n",
       "2102837      5             576                  393             -1.0   \n",
       "5765214     12             502                  489             -2.0   \n",
       "950249       3             346                  373            -10.0   \n",
       "\n",
       "         SCHEDULED_TIME  AIR_SYSTEM_DELAY  SECURITY_DELAY  AIRLINE_DELAY  \\\n",
       "5272295            80.0               0.0             0.0            0.0   \n",
       "5678727           144.0               9.0             0.0            0.0   \n",
       "2102837            74.0               0.0             0.0            0.0   \n",
       "5765214           125.0               0.0             0.0            0.0   \n",
       "950249            143.0               0.0             0.0            0.0   \n",
       "\n",
       "         LATE_AIRCRAFT_DELAY  WEATHER_DELAY  ...  AIRLINE_EV  AIRLINE_F9  \\\n",
       "5272295                  0.0            0.0  ...         0.0         0.0   \n",
       "5678727                  8.0            0.0  ...         0.0         0.0   \n",
       "2102837                  0.0            0.0  ...         0.0         0.0   \n",
       "5765214                  0.0            0.0  ...         0.0         0.0   \n",
       "950249                   0.0            0.0  ...         0.0         0.0   \n",
       "\n",
       "         AIRLINE_HA  AIRLINE_MQ  AIRLINE_NK  AIRLINE_OO  AIRLINE_UA  \\\n",
       "5272295         0.0         0.0         0.0         0.0         0.0   \n",
       "5678727         0.0         0.0         0.0         0.0         0.0   \n",
       "2102837         0.0         0.0         0.0         0.0         0.0   \n",
       "5765214         0.0         0.0         0.0         0.0         0.0   \n",
       "950249          0.0         0.0         0.0         0.0         0.0   \n",
       "\n",
       "         AIRLINE_US  AIRLINE_VX  AIRLINE_WN  \n",
       "5272295         0.0         0.0         1.0  \n",
       "5678727         0.0         0.0         0.0  \n",
       "2102837         0.0         0.0         0.0  \n",
       "5765214         0.0         0.0         1.0  \n",
       "950249          0.0         0.0         0.0  \n",
       "\n",
       "[5 rows x 28 columns]"
      ]
     },
     "execution_count": 12,
     "metadata": {},
     "output_type": "execute_result"
    }
   ],
   "source": [
    "X_train.head()"
   ]
  },
  {
   "cell_type": "code",
   "execution_count": 13,
   "metadata": {},
   "outputs": [
    {
     "data": {
      "text/plain": [
       "Index(['MONTH', 'ORIGIN_AIRPORT', 'DESTINATION_AIRPORT', 'DEPARTURE_DELAY',\n",
       "       'SCHEDULED_TIME', 'AIR_SYSTEM_DELAY', 'SECURITY_DELAY', 'AIRLINE_DELAY',\n",
       "       'LATE_AIRCRAFT_DELAY', 'WEATHER_DELAY', 'DEPARTURE_TIME_HOUR',\n",
       "       'DEPARTURE_TIME_MINUTE', 'SCHEDULED_ARRIVAL_HOUR',\n",
       "       'SCHEDULED_ARRIVAL_MINUTE', 'AIRLINE_AA', 'AIRLINE_AS', 'AIRLINE_B6',\n",
       "       'AIRLINE_DL', 'AIRLINE_EV', 'AIRLINE_F9', 'AIRLINE_HA', 'AIRLINE_MQ',\n",
       "       'AIRLINE_NK', 'AIRLINE_OO', 'AIRLINE_UA', 'AIRLINE_US', 'AIRLINE_VX',\n",
       "       'AIRLINE_WN'],\n",
       "      dtype='object')"
      ]
     },
     "execution_count": 13,
     "metadata": {},
     "output_type": "execute_result"
    }
   ],
   "source": [
    "X_train.columns\n"
   ]
  },
  {
   "cell_type": "code",
   "execution_count": 14,
   "metadata": {},
   "outputs": [
    {
     "name": "stdout",
     "output_type": "stream",
     "text": [
      "<class 'pandas.core.frame.DataFrame'>\n",
      "Int64Index: 4655263 entries, 5272295 to 1692743\n",
      "Data columns (total 28 columns):\n",
      " #   Column                    Dtype  \n",
      "---  ------                    -----  \n",
      " 0   MONTH                     int64  \n",
      " 1   ORIGIN_AIRPORT            int32  \n",
      " 2   DESTINATION_AIRPORT       int32  \n",
      " 3   DEPARTURE_DELAY           float64\n",
      " 4   SCHEDULED_TIME            float64\n",
      " 5   AIR_SYSTEM_DELAY          float64\n",
      " 6   SECURITY_DELAY            float64\n",
      " 7   AIRLINE_DELAY             float64\n",
      " 8   LATE_AIRCRAFT_DELAY       float64\n",
      " 9   WEATHER_DELAY             float64\n",
      " 10  DEPARTURE_TIME_HOUR       int64  \n",
      " 11  DEPARTURE_TIME_MINUTE     int64  \n",
      " 12  SCHEDULED_ARRIVAL_HOUR    int64  \n",
      " 13  SCHEDULED_ARRIVAL_MINUTE  int64  \n",
      " 14  AIRLINE_AA                float64\n",
      " 15  AIRLINE_AS                float64\n",
      " 16  AIRLINE_B6                float64\n",
      " 17  AIRLINE_DL                float64\n",
      " 18  AIRLINE_EV                float64\n",
      " 19  AIRLINE_F9                float64\n",
      " 20  AIRLINE_HA                float64\n",
      " 21  AIRLINE_MQ                float64\n",
      " 22  AIRLINE_NK                float64\n",
      " 23  AIRLINE_OO                float64\n",
      " 24  AIRLINE_UA                float64\n",
      " 25  AIRLINE_US                float64\n",
      " 26  AIRLINE_VX                float64\n",
      " 27  AIRLINE_WN                float64\n",
      "dtypes: float64(21), int32(2), int64(5)\n",
      "memory usage: 994.5 MB\n"
     ]
    }
   ],
   "source": [
    "X_train.info()"
   ]
  },
  {
   "cell_type": "markdown",
   "metadata": {},
   "source": [
    "# 2. Machine Learning Modeling :\n"
   ]
  },
  {
   "cell_type": "markdown",
   "metadata": {},
   "source": [
    "Etablison la **Baseline**\n",
    "\n",
    "Le principe de la baseline en machine learning consiste à définir une référence simple ou une méthode triviale pour prédire les résultats. Cette référence sert à évaluer les performances d’un modèle de manière relative. Si un modèle ne fait pas mieux que cette baseline, il est considéré comme inefficace ou inutile, car il n'apporte pas de valeur ajoutée par rapport à une approche simple."
   ]
  },
  {
   "cell_type": "code",
   "execution_count": 39,
   "metadata": {},
   "outputs": [
    {
     "name": "stdout",
     "output_type": "stream",
     "text": [
      "Mean Absolute Error (MAE): 21.03\n",
      "Mean Squared Error (MSE): 1530.77\n",
      "Root Mean Squared Error (RMSE): 39.13\n",
      "R² (Coefficient of Determination): -0.0\n"
     ]
    }
   ],
   "source": [
    "from sklearn.metrics import mean_squared_error, r2_score\n",
    "import numpy as np\n",
    "\n",
    "# Baseline predictions: moyenne des y_train\n",
    "baseline_preds = y_train.agg('sum') / y_train.agg('count')\n",
    "\n",
    "# Baseline errors\n",
    "baseline_errors = abs(baseline_preds - y_test)\n",
    "\n",
    "# 1. MAE - Mean Absolute Error\n",
    "mae = np.mean(baseline_errors)\n",
    "print('Mean Absolute Error (MAE):', round(mae, 2))\n",
    "\n",
    "# 2. MSE - Mean Squared Error\n",
    "mse = mean_squared_error([baseline_preds] * len(y_test), y_test)\n",
    "print('Mean Squared Error (MSE):', round(mse, 2))\n",
    "\n",
    "# 3. RMSE - Root Mean Squared Error\n",
    "rmse = np.sqrt(mse)\n",
    "print('Root Mean Squared Error (RMSE):', round(rmse, 2))\n",
    "\n",
    "# 4. R² - Coefficient of Determination\n",
    "r2 = r2_score(y_test, [baseline_preds] * len(y_test))\n",
    "print('R² (Coefficient of Determination):', round(r2, 2))\n"
   ]
  },
  {
   "cell_type": "markdown",
   "metadata": {},
   "source": [
    "Il s’agit de notre erreur de base moyenne de 21.04 minutes de retard que nous souhaitons surmonter avec notre modèle de régression. Un model doit minimum avoir les erreur inférieur à celui de baseline sinon il sera rejetté"
   ]
  },
  {
   "cell_type": "code",
   "execution_count": 14,
   "metadata": {},
   "outputs": [],
   "source": [
    "from sklearn.linear_model import LinearRegression\n",
    "from sklearn.tree import DecisionTreeRegressor\n",
    "import xgboost as xgb\n",
    "\n",
    "\n",
    "# Définition correcte des modèles\n",
    "Linear_Regression = LinearRegression()\n",
    "model_xgb = xgb.XGBRegressor(n_estimators=100, random_state=42)\n",
    "Decision_Tree = DecisionTreeRegressor(random_state=42)\n"
   ]
  },
  {
   "cell_type": "code",
   "execution_count": 15,
   "metadata": {},
   "outputs": [
    {
     "data": {
      "text/html": [
       "<style>#sk-container-id-1 {\n",
       "  /* Definition of color scheme common for light and dark mode */\n",
       "  --sklearn-color-text: black;\n",
       "  --sklearn-color-line: gray;\n",
       "  /* Definition of color scheme for unfitted estimators */\n",
       "  --sklearn-color-unfitted-level-0: #fff5e6;\n",
       "  --sklearn-color-unfitted-level-1: #f6e4d2;\n",
       "  --sklearn-color-unfitted-level-2: #ffe0b3;\n",
       "  --sklearn-color-unfitted-level-3: chocolate;\n",
       "  /* Definition of color scheme for fitted estimators */\n",
       "  --sklearn-color-fitted-level-0: #f0f8ff;\n",
       "  --sklearn-color-fitted-level-1: #d4ebff;\n",
       "  --sklearn-color-fitted-level-2: #b3dbfd;\n",
       "  --sklearn-color-fitted-level-3: cornflowerblue;\n",
       "\n",
       "  /* Specific color for light theme */\n",
       "  --sklearn-color-text-on-default-background: var(--sg-text-color, var(--theme-code-foreground, var(--jp-content-font-color1, black)));\n",
       "  --sklearn-color-background: var(--sg-background-color, var(--theme-background, var(--jp-layout-color0, white)));\n",
       "  --sklearn-color-border-box: var(--sg-text-color, var(--theme-code-foreground, var(--jp-content-font-color1, black)));\n",
       "  --sklearn-color-icon: #696969;\n",
       "\n",
       "  @media (prefers-color-scheme: dark) {\n",
       "    /* Redefinition of color scheme for dark theme */\n",
       "    --sklearn-color-text-on-default-background: var(--sg-text-color, var(--theme-code-foreground, var(--jp-content-font-color1, white)));\n",
       "    --sklearn-color-background: var(--sg-background-color, var(--theme-background, var(--jp-layout-color0, #111)));\n",
       "    --sklearn-color-border-box: var(--sg-text-color, var(--theme-code-foreground, var(--jp-content-font-color1, white)));\n",
       "    --sklearn-color-icon: #878787;\n",
       "  }\n",
       "}\n",
       "\n",
       "#sk-container-id-1 {\n",
       "  color: var(--sklearn-color-text);\n",
       "}\n",
       "\n",
       "#sk-container-id-1 pre {\n",
       "  padding: 0;\n",
       "}\n",
       "\n",
       "#sk-container-id-1 input.sk-hidden--visually {\n",
       "  border: 0;\n",
       "  clip: rect(1px 1px 1px 1px);\n",
       "  clip: rect(1px, 1px, 1px, 1px);\n",
       "  height: 1px;\n",
       "  margin: -1px;\n",
       "  overflow: hidden;\n",
       "  padding: 0;\n",
       "  position: absolute;\n",
       "  width: 1px;\n",
       "}\n",
       "\n",
       "#sk-container-id-1 div.sk-dashed-wrapped {\n",
       "  border: 1px dashed var(--sklearn-color-line);\n",
       "  margin: 0 0.4em 0.5em 0.4em;\n",
       "  box-sizing: border-box;\n",
       "  padding-bottom: 0.4em;\n",
       "  background-color: var(--sklearn-color-background);\n",
       "}\n",
       "\n",
       "#sk-container-id-1 div.sk-container {\n",
       "  /* jupyter's `normalize.less` sets `[hidden] { display: none; }`\n",
       "     but bootstrap.min.css set `[hidden] { display: none !important; }`\n",
       "     so we also need the `!important` here to be able to override the\n",
       "     default hidden behavior on the sphinx rendered scikit-learn.org.\n",
       "     See: https://github.com/scikit-learn/scikit-learn/issues/21755 */\n",
       "  display: inline-block !important;\n",
       "  position: relative;\n",
       "}\n",
       "\n",
       "#sk-container-id-1 div.sk-text-repr-fallback {\n",
       "  display: none;\n",
       "}\n",
       "\n",
       "div.sk-parallel-item,\n",
       "div.sk-serial,\n",
       "div.sk-item {\n",
       "  /* draw centered vertical line to link estimators */\n",
       "  background-image: linear-gradient(var(--sklearn-color-text-on-default-background), var(--sklearn-color-text-on-default-background));\n",
       "  background-size: 2px 100%;\n",
       "  background-repeat: no-repeat;\n",
       "  background-position: center center;\n",
       "}\n",
       "\n",
       "/* Parallel-specific style estimator block */\n",
       "\n",
       "#sk-container-id-1 div.sk-parallel-item::after {\n",
       "  content: \"\";\n",
       "  width: 100%;\n",
       "  border-bottom: 2px solid var(--sklearn-color-text-on-default-background);\n",
       "  flex-grow: 1;\n",
       "}\n",
       "\n",
       "#sk-container-id-1 div.sk-parallel {\n",
       "  display: flex;\n",
       "  align-items: stretch;\n",
       "  justify-content: center;\n",
       "  background-color: var(--sklearn-color-background);\n",
       "  position: relative;\n",
       "}\n",
       "\n",
       "#sk-container-id-1 div.sk-parallel-item {\n",
       "  display: flex;\n",
       "  flex-direction: column;\n",
       "}\n",
       "\n",
       "#sk-container-id-1 div.sk-parallel-item:first-child::after {\n",
       "  align-self: flex-end;\n",
       "  width: 50%;\n",
       "}\n",
       "\n",
       "#sk-container-id-1 div.sk-parallel-item:last-child::after {\n",
       "  align-self: flex-start;\n",
       "  width: 50%;\n",
       "}\n",
       "\n",
       "#sk-container-id-1 div.sk-parallel-item:only-child::after {\n",
       "  width: 0;\n",
       "}\n",
       "\n",
       "/* Serial-specific style estimator block */\n",
       "\n",
       "#sk-container-id-1 div.sk-serial {\n",
       "  display: flex;\n",
       "  flex-direction: column;\n",
       "  align-items: center;\n",
       "  background-color: var(--sklearn-color-background);\n",
       "  padding-right: 1em;\n",
       "  padding-left: 1em;\n",
       "}\n",
       "\n",
       "\n",
       "/* Toggleable style: style used for estimator/Pipeline/ColumnTransformer box that is\n",
       "clickable and can be expanded/collapsed.\n",
       "- Pipeline and ColumnTransformer use this feature and define the default style\n",
       "- Estimators will overwrite some part of the style using the `sk-estimator` class\n",
       "*/\n",
       "\n",
       "/* Pipeline and ColumnTransformer style (default) */\n",
       "\n",
       "#sk-container-id-1 div.sk-toggleable {\n",
       "  /* Default theme specific background. It is overwritten whether we have a\n",
       "  specific estimator or a Pipeline/ColumnTransformer */\n",
       "  background-color: var(--sklearn-color-background);\n",
       "}\n",
       "\n",
       "/* Toggleable label */\n",
       "#sk-container-id-1 label.sk-toggleable__label {\n",
       "  cursor: pointer;\n",
       "  display: block;\n",
       "  width: 100%;\n",
       "  margin-bottom: 0;\n",
       "  padding: 0.5em;\n",
       "  box-sizing: border-box;\n",
       "  text-align: center;\n",
       "}\n",
       "\n",
       "#sk-container-id-1 label.sk-toggleable__label-arrow:before {\n",
       "  /* Arrow on the left of the label */\n",
       "  content: \"▸\";\n",
       "  float: left;\n",
       "  margin-right: 0.25em;\n",
       "  color: var(--sklearn-color-icon);\n",
       "}\n",
       "\n",
       "#sk-container-id-1 label.sk-toggleable__label-arrow:hover:before {\n",
       "  color: var(--sklearn-color-text);\n",
       "}\n",
       "\n",
       "/* Toggleable content - dropdown */\n",
       "\n",
       "#sk-container-id-1 div.sk-toggleable__content {\n",
       "  max-height: 0;\n",
       "  max-width: 0;\n",
       "  overflow: hidden;\n",
       "  text-align: left;\n",
       "  /* unfitted */\n",
       "  background-color: var(--sklearn-color-unfitted-level-0);\n",
       "}\n",
       "\n",
       "#sk-container-id-1 div.sk-toggleable__content.fitted {\n",
       "  /* fitted */\n",
       "  background-color: var(--sklearn-color-fitted-level-0);\n",
       "}\n",
       "\n",
       "#sk-container-id-1 div.sk-toggleable__content pre {\n",
       "  margin: 0.2em;\n",
       "  border-radius: 0.25em;\n",
       "  color: var(--sklearn-color-text);\n",
       "  /* unfitted */\n",
       "  background-color: var(--sklearn-color-unfitted-level-0);\n",
       "}\n",
       "\n",
       "#sk-container-id-1 div.sk-toggleable__content.fitted pre {\n",
       "  /* unfitted */\n",
       "  background-color: var(--sklearn-color-fitted-level-0);\n",
       "}\n",
       "\n",
       "#sk-container-id-1 input.sk-toggleable__control:checked~div.sk-toggleable__content {\n",
       "  /* Expand drop-down */\n",
       "  max-height: 200px;\n",
       "  max-width: 100%;\n",
       "  overflow: auto;\n",
       "}\n",
       "\n",
       "#sk-container-id-1 input.sk-toggleable__control:checked~label.sk-toggleable__label-arrow:before {\n",
       "  content: \"▾\";\n",
       "}\n",
       "\n",
       "/* Pipeline/ColumnTransformer-specific style */\n",
       "\n",
       "#sk-container-id-1 div.sk-label input.sk-toggleable__control:checked~label.sk-toggleable__label {\n",
       "  color: var(--sklearn-color-text);\n",
       "  background-color: var(--sklearn-color-unfitted-level-2);\n",
       "}\n",
       "\n",
       "#sk-container-id-1 div.sk-label.fitted input.sk-toggleable__control:checked~label.sk-toggleable__label {\n",
       "  background-color: var(--sklearn-color-fitted-level-2);\n",
       "}\n",
       "\n",
       "/* Estimator-specific style */\n",
       "\n",
       "/* Colorize estimator box */\n",
       "#sk-container-id-1 div.sk-estimator input.sk-toggleable__control:checked~label.sk-toggleable__label {\n",
       "  /* unfitted */\n",
       "  background-color: var(--sklearn-color-unfitted-level-2);\n",
       "}\n",
       "\n",
       "#sk-container-id-1 div.sk-estimator.fitted input.sk-toggleable__control:checked~label.sk-toggleable__label {\n",
       "  /* fitted */\n",
       "  background-color: var(--sklearn-color-fitted-level-2);\n",
       "}\n",
       "\n",
       "#sk-container-id-1 div.sk-label label.sk-toggleable__label,\n",
       "#sk-container-id-1 div.sk-label label {\n",
       "  /* The background is the default theme color */\n",
       "  color: var(--sklearn-color-text-on-default-background);\n",
       "}\n",
       "\n",
       "/* On hover, darken the color of the background */\n",
       "#sk-container-id-1 div.sk-label:hover label.sk-toggleable__label {\n",
       "  color: var(--sklearn-color-text);\n",
       "  background-color: var(--sklearn-color-unfitted-level-2);\n",
       "}\n",
       "\n",
       "/* Label box, darken color on hover, fitted */\n",
       "#sk-container-id-1 div.sk-label.fitted:hover label.sk-toggleable__label.fitted {\n",
       "  color: var(--sklearn-color-text);\n",
       "  background-color: var(--sklearn-color-fitted-level-2);\n",
       "}\n",
       "\n",
       "/* Estimator label */\n",
       "\n",
       "#sk-container-id-1 div.sk-label label {\n",
       "  font-family: monospace;\n",
       "  font-weight: bold;\n",
       "  display: inline-block;\n",
       "  line-height: 1.2em;\n",
       "}\n",
       "\n",
       "#sk-container-id-1 div.sk-label-container {\n",
       "  text-align: center;\n",
       "}\n",
       "\n",
       "/* Estimator-specific */\n",
       "#sk-container-id-1 div.sk-estimator {\n",
       "  font-family: monospace;\n",
       "  border: 1px dotted var(--sklearn-color-border-box);\n",
       "  border-radius: 0.25em;\n",
       "  box-sizing: border-box;\n",
       "  margin-bottom: 0.5em;\n",
       "  /* unfitted */\n",
       "  background-color: var(--sklearn-color-unfitted-level-0);\n",
       "}\n",
       "\n",
       "#sk-container-id-1 div.sk-estimator.fitted {\n",
       "  /* fitted */\n",
       "  background-color: var(--sklearn-color-fitted-level-0);\n",
       "}\n",
       "\n",
       "/* on hover */\n",
       "#sk-container-id-1 div.sk-estimator:hover {\n",
       "  /* unfitted */\n",
       "  background-color: var(--sklearn-color-unfitted-level-2);\n",
       "}\n",
       "\n",
       "#sk-container-id-1 div.sk-estimator.fitted:hover {\n",
       "  /* fitted */\n",
       "  background-color: var(--sklearn-color-fitted-level-2);\n",
       "}\n",
       "\n",
       "/* Specification for estimator info (e.g. \"i\" and \"?\") */\n",
       "\n",
       "/* Common style for \"i\" and \"?\" */\n",
       "\n",
       ".sk-estimator-doc-link,\n",
       "a:link.sk-estimator-doc-link,\n",
       "a:visited.sk-estimator-doc-link {\n",
       "  float: right;\n",
       "  font-size: smaller;\n",
       "  line-height: 1em;\n",
       "  font-family: monospace;\n",
       "  background-color: var(--sklearn-color-background);\n",
       "  border-radius: 1em;\n",
       "  height: 1em;\n",
       "  width: 1em;\n",
       "  text-decoration: none !important;\n",
       "  margin-left: 1ex;\n",
       "  /* unfitted */\n",
       "  border: var(--sklearn-color-unfitted-level-1) 1pt solid;\n",
       "  color: var(--sklearn-color-unfitted-level-1);\n",
       "}\n",
       "\n",
       ".sk-estimator-doc-link.fitted,\n",
       "a:link.sk-estimator-doc-link.fitted,\n",
       "a:visited.sk-estimator-doc-link.fitted {\n",
       "  /* fitted */\n",
       "  border: var(--sklearn-color-fitted-level-1) 1pt solid;\n",
       "  color: var(--sklearn-color-fitted-level-1);\n",
       "}\n",
       "\n",
       "/* On hover */\n",
       "div.sk-estimator:hover .sk-estimator-doc-link:hover,\n",
       ".sk-estimator-doc-link:hover,\n",
       "div.sk-label-container:hover .sk-estimator-doc-link:hover,\n",
       ".sk-estimator-doc-link:hover {\n",
       "  /* unfitted */\n",
       "  background-color: var(--sklearn-color-unfitted-level-3);\n",
       "  color: var(--sklearn-color-background);\n",
       "  text-decoration: none;\n",
       "}\n",
       "\n",
       "div.sk-estimator.fitted:hover .sk-estimator-doc-link.fitted:hover,\n",
       ".sk-estimator-doc-link.fitted:hover,\n",
       "div.sk-label-container:hover .sk-estimator-doc-link.fitted:hover,\n",
       ".sk-estimator-doc-link.fitted:hover {\n",
       "  /* fitted */\n",
       "  background-color: var(--sklearn-color-fitted-level-3);\n",
       "  color: var(--sklearn-color-background);\n",
       "  text-decoration: none;\n",
       "}\n",
       "\n",
       "/* Span, style for the box shown on hovering the info icon */\n",
       ".sk-estimator-doc-link span {\n",
       "  display: none;\n",
       "  z-index: 9999;\n",
       "  position: relative;\n",
       "  font-weight: normal;\n",
       "  right: .2ex;\n",
       "  padding: .5ex;\n",
       "  margin: .5ex;\n",
       "  width: min-content;\n",
       "  min-width: 20ex;\n",
       "  max-width: 50ex;\n",
       "  color: var(--sklearn-color-text);\n",
       "  box-shadow: 2pt 2pt 4pt #999;\n",
       "  /* unfitted */\n",
       "  background: var(--sklearn-color-unfitted-level-0);\n",
       "  border: .5pt solid var(--sklearn-color-unfitted-level-3);\n",
       "}\n",
       "\n",
       ".sk-estimator-doc-link.fitted span {\n",
       "  /* fitted */\n",
       "  background: var(--sklearn-color-fitted-level-0);\n",
       "  border: var(--sklearn-color-fitted-level-3);\n",
       "}\n",
       "\n",
       ".sk-estimator-doc-link:hover span {\n",
       "  display: block;\n",
       "}\n",
       "\n",
       "/* \"?\"-specific style due to the `<a>` HTML tag */\n",
       "\n",
       "#sk-container-id-1 a.estimator_doc_link {\n",
       "  float: right;\n",
       "  font-size: 1rem;\n",
       "  line-height: 1em;\n",
       "  font-family: monospace;\n",
       "  background-color: var(--sklearn-color-background);\n",
       "  border-radius: 1rem;\n",
       "  height: 1rem;\n",
       "  width: 1rem;\n",
       "  text-decoration: none;\n",
       "  /* unfitted */\n",
       "  color: var(--sklearn-color-unfitted-level-1);\n",
       "  border: var(--sklearn-color-unfitted-level-1) 1pt solid;\n",
       "}\n",
       "\n",
       "#sk-container-id-1 a.estimator_doc_link.fitted {\n",
       "  /* fitted */\n",
       "  border: var(--sklearn-color-fitted-level-1) 1pt solid;\n",
       "  color: var(--sklearn-color-fitted-level-1);\n",
       "}\n",
       "\n",
       "/* On hover */\n",
       "#sk-container-id-1 a.estimator_doc_link:hover {\n",
       "  /* unfitted */\n",
       "  background-color: var(--sklearn-color-unfitted-level-3);\n",
       "  color: var(--sklearn-color-background);\n",
       "  text-decoration: none;\n",
       "}\n",
       "\n",
       "#sk-container-id-1 a.estimator_doc_link.fitted:hover {\n",
       "  /* fitted */\n",
       "  background-color: var(--sklearn-color-fitted-level-3);\n",
       "}\n",
       "</style><div id=\"sk-container-id-1\" class=\"sk-top-container\"><div class=\"sk-text-repr-fallback\"><pre>DecisionTreeRegressor(random_state=42)</pre><b>In a Jupyter environment, please rerun this cell to show the HTML representation or trust the notebook. <br />On GitHub, the HTML representation is unable to render, please try loading this page with nbviewer.org.</b></div><div class=\"sk-container\" hidden><div class=\"sk-item\"><div class=\"sk-estimator fitted sk-toggleable\"><input class=\"sk-toggleable__control sk-hidden--visually\" id=\"sk-estimator-id-1\" type=\"checkbox\" checked><label for=\"sk-estimator-id-1\" class=\"sk-toggleable__label fitted sk-toggleable__label-arrow fitted\">&nbsp;&nbsp;DecisionTreeRegressor<a class=\"sk-estimator-doc-link fitted\" rel=\"noreferrer\" target=\"_blank\" href=\"https://scikit-learn.org/1.5/modules/generated/sklearn.tree.DecisionTreeRegressor.html\">?<span>Documentation for DecisionTreeRegressor</span></a><span class=\"sk-estimator-doc-link fitted\">i<span>Fitted</span></span></label><div class=\"sk-toggleable__content fitted\"><pre>DecisionTreeRegressor(random_state=42)</pre></div> </div></div></div></div>"
      ],
      "text/plain": [
       "DecisionTreeRegressor(random_state=42)"
      ]
     },
     "execution_count": 15,
     "metadata": {},
     "output_type": "execute_result"
    }
   ],
   "source": [
    "# Entraînement des modèles\n",
    "Linear_Regression.fit(X_train, y_train)\n",
    "model_xgb.fit(X_train, y_train)\n",
    "Decision_Tree.fit(X_train, y_train)"
   ]
  },
  {
   "cell_type": "code",
   "execution_count": 16,
   "metadata": {},
   "outputs": [],
   "source": [
    "# Prédictions sur les données de test\n",
    "y_pred_lr = Linear_Regression.predict(X_test)\n",
    "y_pred_xgb = model_xgb.predict(X_test)\n",
    "y_pred_dt = Decision_Tree.predict(X_test)"
   ]
  },
  {
   "cell_type": "markdown",
   "metadata": {},
   "source": [
    "### 1. Mean Squared Error (MSE) - Erreur quadratique moyenne\n",
    "Le **MSE** mesure la moyenne des carrés des erreurs, c'est-à-dire la différence au carré entre la valeur réelle et la valeur prédite. Plus cette valeur est faible, meilleure est la performance du modèle. Cette valeur reste relative d'un cas ou à un autre \n"
   ]
  },
  {
   "cell_type": "code",
   "execution_count": 17,
   "metadata": {},
   "outputs": [
    {
     "data": {
      "image/jpeg": "[encoded data removed]",
      "text/plain": [
       "<IPython.core.display.Image object>"
      ]
     },
     "execution_count": 17,
     "metadata": {
      "image/jpeg": {
       "height": 100,
       "width": 500
      }
     },
     "output_type": "execute_result"
    }
   ],
   "source": [
    "Image(filename=\"images/mse.jpg\", width=500, height=100)"
   ]
  },
  {
   "cell_type": "markdown",
   "metadata": {},
   "source": [
    "--------------------------------------------------------------------------------------------------------------------------"
   ]
  },
  {
   "cell_type": "markdown",
   "metadata": {},
   "source": [
    "### 2. Root Mean Squared Error (RMSE) - Erreur quadratique moyenne racine\n",
    "Le **RMSE** est simplement la racine carrée du MSE. Il est utilisé pour ramener l'échelle des erreurs à l'échelle originale des données, ce qui le rend plus facile à interpréter."
   ]
  },
  {
   "cell_type": "code",
   "execution_count": 18,
   "metadata": {},
   "outputs": [
    {
     "data": {
      "image/png": "[encoded data removed]",
      "text/plain": [
       "<IPython.core.display.Image object>"
      ]
     },
     "execution_count": 18,
     "metadata": {
      "image/png": {
       "height": 200,
       "width": 400
      }
     },
     "output_type": "execute_result"
    }
   ],
   "source": [
    "Image(filename=\"images/rmse.png\", width=400, height=200)"
   ]
  },
  {
   "cell_type": "markdown",
   "metadata": {},
   "source": [
    "--------------------------------------------------------------------------------------------------------------------------"
   ]
  },
  {
   "cell_type": "markdown",
   "metadata": {},
   "source": [
    "### 3. Mean Absolute Error (MAE) - Erreur absolue moyenne\n",
    "Le **MAE** mesure la moyenne des erreurs absolues, c'est-à-dire la différence absolue entre la valeur réelle et la valeur prédite."
   ]
  },
  {
   "cell_type": "code",
   "execution_count": 19,
   "metadata": {},
   "outputs": [
    {
     "data": {
      "image/jpeg": "[encoded data removed]",
      "text/plain": [
       "<IPython.core.display.Image object>"
      ]
     },
     "execution_count": 19,
     "metadata": {
      "image/jpeg": {
       "height": 200,
       "width": 500
      }
     },
     "output_type": "execute_result"
    }
   ],
   "source": [
    "Image(filename=\"images/mae.jpg\", width=500, height=200)"
   ]
  },
  {
   "cell_type": "markdown",
   "metadata": {},
   "source": [
    "--------------------------------------------------------------------------------------------------------------------------"
   ]
  },
  {
   "cell_type": "markdown",
   "metadata": {},
   "source": [
    "### R² Score (Coefficient de détermination)\n",
    "Le R² score, également appelé coefficient de détermination, indique la proportion de la variance dans la variable cible qui est expliquée par le modèle. Il est calculé comme suit :"
   ]
  },
  {
   "cell_type": "code",
   "execution_count": 20,
   "metadata": {},
   "outputs": [
    {
     "data": {
      "image/png": "[encoded data removed]",
      "text/plain": [
       "<IPython.core.display.Image object>"
      ]
     },
     "execution_count": 20,
     "metadata": {
      "image/png": {
       "height": 200,
       "width": 500
      }
     },
     "output_type": "execute_result"
    }
   ],
   "source": [
    "Image(filename=\"images/r2.png\", width=500, height=200)"
   ]
  },
  {
   "cell_type": "markdown",
   "metadata": {},
   "source": [
    "* Il montre dans quelle mesure le modèle capture la variance des données.\n",
    "* Un R² proche de 1 indique que le modèle explique une grande partie de la variance des données, tandis qu'un R² proche de 0 indique que le modèle est inefficace.\n",
    "* Le R² est très utile pour comparer des modèles de régression différents."
   ]
  },
  {
   "cell_type": "code",
   "execution_count": 21,
   "metadata": {},
   "outputs": [
    {
     "name": "stdout",
     "output_type": "stream",
     "text": [
      "******************************Evaluation Linear Regression********************\n",
      "MAE: 7.2507\n",
      "MSE: 87.0474\n",
      "RMSE: 9.3299\n",
      "R²: 0.9431\n",
      "******************************Evaluation model_xgb********************\n",
      "MAE: 6.0193\n",
      "MSE: 79.1310\n",
      "RMSE: 8.8956\n",
      "R²: 0.9483\n",
      "******************************Evaluation Decision_Tree********************\n",
      "MAE: 6.9100\n",
      "MSE: 105.1915\n",
      "RMSE: 10.2563\n",
      "R²: 0.9313\n"
     ]
    }
   ],
   "source": [
    "from sklearn.metrics import mean_absolute_error, mean_squared_error, r2_score\n",
    "import numpy as np\n",
    "\n",
    "# Fonction pour calculer les métriques\n",
    "def evaluate_model(y_test, y_pred):\n",
    "    mae = mean_absolute_error(y_test, y_pred)\n",
    "    mse = mean_squared_error(y_test, y_pred)\n",
    "    rmse = np.sqrt(mse)\n",
    "    r2 = r2_score(y_test, y_pred)\n",
    "    return {\"MAE\": mae, \"MSE\": mse, \"RMSE\": rmse, \"R²\": r2}\n",
    "\n",
    "print(\"******************************Evaluation Linear Regression********************\")\n",
    "score_lr= evaluate_model(y_test,y_pred_lr)\n",
    "for metric, value in score_lr.items():\n",
    "    print(f\"{metric}: {value:.4f}\")\n",
    "\n",
    "print(\"******************************Evaluation model_xgb********************\")\n",
    "score_xgb= evaluate_model(y_test,y_pred_xgb)\n",
    "for metric, value in score_xgb.items():\n",
    "    print(f\"{metric}: {value:.4f}\")\n",
    "\n",
    "print(\"******************************Evaluation Decision_Tree********************\")\n",
    "score_dt= evaluate_model(y_test,y_pred_dt)\n",
    "for metric, value in score_dt.items():\n",
    "    print(f\"{metric}: {value:.4f}\")\n"
   ]
  },
  {
   "cell_type": "markdown",
   "metadata": {},
   "source": [
    "### **Finetuning du LinearRegression**"
   ]
  },
  {
   "cell_type": "code",
   "execution_count": 23,
   "metadata": {},
   "outputs": [
    {
     "name": "stdout",
     "output_type": "stream",
     "text": [
      "Fitting 5 folds for each of 2 candidates, totalling 10 fits\n",
      "[CV] END .................................fit_intercept=True; total time=   9.8s\n",
      "[CV] END .................................fit_intercept=True; total time=   8.3s\n",
      "[CV] END .................................fit_intercept=True; total time=   8.5s\n",
      "[CV] END .................................fit_intercept=True; total time=   8.6s\n",
      "[CV] END .................................fit_intercept=True; total time=   8.7s\n",
      "[CV] END ................................fit_intercept=False; total time=   9.0s\n",
      "[CV] END ................................fit_intercept=False; total time=   9.3s\n",
      "[CV] END ................................fit_intercept=False; total time=   8.8s\n",
      "[CV] END ................................fit_intercept=False; total time=   9.8s\n",
      "[CV] END ................................fit_intercept=False; total time=  10.7s\n",
      "Meilleurs hyperparamètres (Random Search) :  {'fit_intercept': True}\n"
     ]
    }
   ],
   "source": [
    "from sklearn.linear_model import LinearRegression\n",
    "from sklearn.model_selection import GridSearchCV\n",
    "\n",
    "# Paramètres à tester\n",
    "param_grid = {\n",
    "    'fit_intercept': [True, False],  # Ajouter une constante ou non\n",
    "}\n",
    "\n",
    "# Initialisation du modèle\n",
    "lr = LinearRegression()\n",
    "\n",
    "# GridSearchCV\n",
    "grid_search = GridSearchCV(\n",
    "    estimator=lr,\n",
    "    param_grid=param_grid,\n",
    "    scoring='neg_mean_squared_error',  # Optimisation par R²\n",
    "    cv=5,  # Validation croisée à 5 plis\n",
    "    verbose=2\n",
    ")\n",
    "\n",
    "# Lancer la recherche\n",
    "grid_search.fit(X_train, y_train)\n",
    "\n",
    "best_params_lr = grid_search.best_params_\n",
    "print(\"Meilleurs hyperparamètres (Random Search) : \", best_params_lr)\n",
    "# Récupérer le meilleur modèle\n",
    "best_model_lr = grid_search.best_estimator_\n"
   ]
  },
  {
   "cell_type": "code",
   "execution_count": 24,
   "metadata": {},
   "outputs": [
    {
     "name": "stdout",
     "output_type": "stream",
     "text": [
      "MSE: 87.05\n",
      "MAE: 7.25\n",
      "RMSE: 9.33\n",
      "R2 Score: 0.94\n"
     ]
    }
   ],
   "source": [
    "from sklearn.metrics import mean_absolute_error, mean_squared_error, r2_score\n",
    "\n",
    "pred_lr1=best_model_lr.predict(X_test)\n",
    "# Calcul des métriques\n",
    "mse = mean_squared_error(y_test, pred_lr1)\n",
    "mae = mean_absolute_error(y_test, pred_lr1)\n",
    "rmse = np.sqrt(mse)\n",
    "r2 = r2_score(y_test, pred_lr1)\n",
    "# Afficher les métriques\n",
    "print(f\"MSE: {mse:.2f}\")\n",
    "print(f\"MAE: {mae:.2f}\")\n",
    "print(f\"RMSE: {rmse:.2f}\")\n",
    "print(f\"R2 Score: {r2:.2f}\")\n"
   ]
  },
  {
   "cell_type": "code",
   "execution_count": 31,
   "metadata": {},
   "outputs": [
    {
     "name": "stderr",
     "output_type": "stream",
     "text": [
      "2024/12/13 18:54:17 WARNING mlflow.utils.environment: Encountered an unexpected error while inferring pip requirements (model URI: C:\\Users\\debgn\\AppData\\Local\\Temp\\tmpkkh3d3tt\\model\\model.pkl, flavor: sklearn). Fall back to return ['scikit-learn==1.5.1', 'cloudpickle==2.2.1']. Set logging level to DEBUG to see the full traceback. \n",
      "2024/12/13 18:54:17 WARNING mlflow.models.model: Model logged without a signature and input example. Please set `input_example` parameter when logging the model to auto infer the model signature.\n"
     ]
    },
    {
     "name": "stdout",
     "output_type": "stream",
     "text": [
      "🏃 View run LinearRegression at: https://dagshub.com/deb.gnuito/MLOPS.mlflow/#/experiments/0/runs/9e8ecf8a59e94365afcac174283db466\n",
      "🧪 View experiment at: https://dagshub.com/deb.gnuito/MLOPS.mlflow/#/experiments/0\n",
      "MSE: 87.05\n",
      "MAE: 7.25\n",
      "RMSE: 9.33\n",
      "R2 Score: 0.94\n"
     ]
    }
   ],
   "source": [
    "with mlflow.start_run(run_name='LinearRegression'):\n",
    "    mlflow.log_param(\"data_url\",data_url)\n",
    "    mlflow.log_param(\"data_version\",version)\n",
    "    mlflow.log_param(\"input_rows\",df.shape[0])\n",
    "    mlflow.log_param(\"input_cols\",df.shape[1])\n",
    "    #model fitting and training\n",
    "    lr= LinearRegression()\n",
    "\n",
    "    mlflow.set_tag(key= \"model\",value=\"LinearRegression\")\n",
    "    params = lr.get_params()\n",
    "    mlflow.log_params(params)\n",
    "    lr.fit(X_train,y_train)\n",
    "    train_features_name = f'{X_train=}'.split('=')[0]\n",
    "    train_label_name = f'{y_test=}'.split('=')[0]\n",
    "    mlflow.set_tag(key=\"train_features_name\",value= train_features_name)\n",
    "    mlflow.set_tag(key= \"train_label_name\",value=train_label_name)\n",
    "\n",
    "    # Prédictions\n",
    "    predictions = lr.predict(X_test)\n",
    "\n",
    "    # Calcul des métriques\n",
    "    mse = mean_squared_error(y_test, predictions)\n",
    "    mae = mean_absolute_error(y_test, predictions)\n",
    "    rmse = np.sqrt(mse)\n",
    "    r2 = r2_score(y_test, predictions)\n",
    "\n",
    "    # Enregistrement des métriques\n",
    "    mlflow.log_metric(\"MSE\", mse)\n",
    "    mlflow.log_metric(\"MAE\", mae)\n",
    "    mlflow.log_metric(\"RMSE\",  rmse)\n",
    "    mlflow.log_metric(\"R2_Score\", r2)\n",
    "\n",
    "    # Enregistrer le modèle\n",
    "    mlflow.sklearn.log_model(lr, artifact_path=\"ML_models\")\n",
    "\n",
    "# Afficher les métriques\n",
    "print(f\"MSE: {mse:.2f}\")\n",
    "print(f\"MAE: {mae:.2f}\")\n",
    "print(f\"RMSE: {rmse:.2f}\")\n",
    "print(f\"R2 Score: {r2:.2f}\")\n"
   ]
  },
  {
   "cell_type": "code",
   "execution_count": 37,
   "metadata": {},
   "outputs": [],
   "source": [
    "lr_pred = lr.predict(X_test)"
   ]
  },
  {
   "cell_type": "markdown",
   "metadata": {},
   "source": [
    "### **Finetuning du model_xgb**"
   ]
  },
  {
   "cell_type": "code",
   "execution_count": 27,
   "metadata": {},
   "outputs": [
    {
     "name": "stdout",
     "output_type": "stream",
     "text": [
      "Fitting 5 folds for each of 50 candidates, totalling 250 fits\n",
      "Meilleurs hyperparamètres (Random Search) :  {'subsample': 0.6, 'n_estimators': 200, 'max_depth': 7, 'learning_rate': 0.1, 'gamma': 0.2, 'colsample_bytree': 0.8}\n"
     ]
    }
   ],
   "source": [
    "import xgboost as xgb\n",
    "\n",
    "# Initialiser le modèle XGBoost\n",
    "xgb_model = xgb.XGBRegressor(random_state=42)\n",
    "\n",
    "# Définir l'espace de recherche pour les hyperparamètres\n",
    "param_grid = {\n",
    "    \"max_depth\": [3, 5, 7],\n",
    "    \"learning_rate\": [0.01, 0.05, 0.1],\n",
    "    \"n_estimators\": [50, 100, 200],\n",
    "    \"subsample\": [0.6, 0.8, 1.0],\n",
    "    \"colsample_bytree\": [0.6, 0.8, 1.0],\n",
    "    \"gamma\": [0, 0.1, 0.2]\n",
    "}\n",
    "\n",
    "\n",
    "from sklearn.model_selection import RandomizedSearchCV\n",
    "random_search = RandomizedSearchCV(\n",
    "    estimator=xgb_model,\n",
    "    param_distributions=param_grid,\n",
    "    n_iter=50,  # Nombre d'itérations aléatoires\n",
    "    scoring='r2',\n",
    "    cv=5,\n",
    "    verbose=2,\n",
    "    n_jobs=-1,\n",
    "    random_state=42\n",
    ")\n",
    "random_search.fit(X_train, y_train)\n",
    "best_params_xgb = random_search.best_params_\n",
    "print(\"Meilleurs hyperparamètres (Random Search) : \", best_params_xgb)\n",
    "\n",
    "# Récupérer le meilleur modèle\n",
    "best_model_xgb = random_search.best_estimator_\n",
    "\n"
   ]
  },
  {
   "cell_type": "code",
   "execution_count": 28,
   "metadata": {},
   "outputs": [
    {
     "name": "stdout",
     "output_type": "stream",
     "text": [
      "******************************Evaluation Best model xgboost********************\n",
      "MAE: 5.9459\n",
      "MSE: 77.3738\n",
      "RMSE: 8.7962\n",
      "R²: 0.9495\n"
     ]
    }
   ],
   "source": [
    "y_pred_xgb = best_model_xgb.predict(X_test)\n",
    "\n",
    "print(\"******************************Evaluation Best model xgboost********************\")\n",
    "score_best= evaluate_model(y_test,y_pred_xgb)\n",
    "for metric, value in score_best.items():\n",
    "    print(f\"{metric}: {value:.4f}\")"
   ]
  },
  {
   "cell_type": "code",
   "execution_count": 24,
   "metadata": {},
   "outputs": [],
   "source": [
    "mlflow.sklearn.autolog(disable=True)"
   ]
  },
  {
   "cell_type": "code",
   "execution_count": 30,
   "metadata": {},
   "outputs": [
    {
     "name": "stderr",
     "output_type": "stream",
     "text": [
      "2024/12/13 18:52:19 WARNING mlflow.utils.environment: Encountered an unexpected error while inferring pip requirements (model URI: C:\\Users\\debgn\\AppData\\Local\\Temp\\tmpugcbbt7l\\model\\model.pkl, flavor: sklearn). Fall back to return ['scikit-learn==1.5.1', 'cloudpickle==2.2.1']. Set logging level to DEBUG to see the full traceback. \n",
      "2024/12/13 18:52:19 WARNING mlflow.models.model: Model logged without a signature and input example. Please set `input_example` parameter when logging the model to auto infer the model signature.\n"
     ]
    },
    {
     "name": "stdout",
     "output_type": "stream",
     "text": [
      "🏃 View run XGBRegressor at: https://dagshub.com/deb.gnuito/MLOPS.mlflow/#/experiments/0/runs/337c77bed65545bbb9f628bd01281728\n",
      "🧪 View experiment at: https://dagshub.com/deb.gnuito/MLOPS.mlflow/#/experiments/0\n",
      "MSE: 77.37\n",
      "MAE: 5.95\n",
      "RMSE: 8.80\n",
      "R2 Score: 0.95\n"
     ]
    }
   ],
   "source": [
    "with mlflow.start_run(run_name='XGBRegressor'):\n",
    "    mlflow.log_param(\"data_url\",data_url)\n",
    "    mlflow.log_param(\"data_version\",version)\n",
    "    mlflow.log_param(\"input_rows\",df.shape[0])\n",
    "    mlflow.log_param(\"input_cols\",df.shape[1])\n",
    "    #model fitting and training\n",
    "    xgb_model = xgb.XGBRegressor(**best_params_xgb, random_state=42)\n",
    "\n",
    "    mlflow.set_tag(key= \"model\",value=\"XGBRegressor\")\n",
    "    params = xgb_model.get_params()\n",
    "    mlflow.log_params(params)\n",
    "    xgb_model.fit(X_train,y_train)\n",
    "    train_features_name = f'{X_train=}'.split('=')[0]\n",
    "    train_label_name = f'{y_test=}'.split('=')[0]\n",
    "    mlflow.set_tag(key=\"train_features_name\",value= train_features_name)\n",
    "    mlflow.set_tag(key= \"train_label_name\",value=train_label_name)\n",
    "\n",
    "    # Prédictions\n",
    "    predictions = xgb_model.predict(X_test)\n",
    "\n",
    "    # Calcul des métriques\n",
    "    mse = mean_squared_error(y_test, predictions)\n",
    "    mae = mean_absolute_error(y_test, predictions)\n",
    "    rmse = np.sqrt(mse)\n",
    "    r2 = r2_score(y_test, predictions)\n",
    "\n",
    "    # Enregistrement des métriques\n",
    "    mlflow.log_metric(\"MSE\", mse)\n",
    "    mlflow.log_metric(\"MAE\", mae)\n",
    "    mlflow.log_metric(\"RMSE\",  rmse)\n",
    "    mlflow.log_metric(\"R2_Score\", r2)\n",
    "\n",
    "    # Enregistrer le modèle\n",
    "    mlflow.sklearn.log_model(xgb_model, artifact_path=\"ML_models\")\n",
    "\n",
    "# Afficher les métriques\n",
    "print(f\"MSE: {mse:.2f}\")\n",
    "print(f\"MAE: {mae:.2f}\")\n",
    "print(f\"RMSE: {rmse:.2f}\")\n",
    "print(f\"R2 Score: {r2:.2f}\")\n"
   ]
  },
  {
   "cell_type": "markdown",
   "metadata": {},
   "source": [
    "### **LSTM_Model**"
   ]
  },
  {
   "cell_type": "code",
   "execution_count": 32,
   "metadata": {},
   "outputs": [],
   "source": [
    "with mlflow.start_run(run_name='LSTM_Model'):\n",
    "    # Enregistrer les paramètres\n",
    "    mlflow.log_param(\"data_url\", data_url)\n",
    "    mlflow.log_param(\"data_version\", version)\n",
    "    mlflow.log_param(\"input_rows\", df.shape[0])\n",
    "    mlflow.log_param(\"input_cols\", df.shape[1])\n",
    "\n",
    "    # Créer et entraîner le modèle LSTM\n",
    "    model = Sequential()\n",
    "    model.add(LSTM(units=50, return_sequences=False, input_shape=(X_train.shape[1], 1)))  # LSTM\n",
    "    model.add(Dense(units=1))  # Couche de sortie\n",
    "\n",
    "    model.compile(optimizer='adam', loss='mean_squared_error')\n",
    "\n",
    "    # Enregistrer les hyperparamètres\n",
    "    mlflow.set_tag(key=\"model\", value=\"LSTM\")\n",
    "    params = {\"units\": 50, \"optimizer\": \"adam\", \"loss\": \"mean_squared_error\"}\n",
    "    mlflow.log_params(params)\n",
    "\n",
    "    # Entraîner le modèle\n",
    "    model.fit(X_train, y_train, epochs=4, batch_size=128, verbose=1)\n",
    "\n",
    "    # Enregistrer les noms des caractéristiques d'entrée et de sortie\n",
    "    train_features_name = f'{X_train=}'.split('=')[0]\n",
    "    train_label_name = f'{y_train=}'.split('=')[0]\n",
    "    mlflow.set_tag(key=\"train_features_name\", value=train_features_name)\n",
    "    mlflow.set_tag(key=\"train_label_name\", value=train_label_name)\n"
   ]
  }
 ],
 "metadata": {
  "kernelspec": {
   "display_name": "ml_env",
   "language": "python",
   "name": "python3"
  },
  "language_info": {
   "codemirror_mode": {
    "name": "ipython",
    "version": 3
   },
   "file_extension": ".py",
   "mimetype": "text/x-python",
   "name": "python",
   "nbconvert_exporter": "python",
   "pygments_lexer": "ipython3",
   "version": "3.9.15"
  }
 },
 "nbformat": 4,
 "nbformat_minor": 2
}
