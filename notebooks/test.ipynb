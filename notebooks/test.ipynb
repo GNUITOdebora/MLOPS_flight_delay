{
 "cells": [
  {
   "cell_type": "code",
   "execution_count": 1,
   "metadata": {},
   "outputs": [
    {
     "name": "stdout",
     "output_type": "stream",
     "text": [
      "   MONTH ORIGIN_AIRPORT DESTINATION_AIRPORT  DEPARTURE_DELAY  SCHEDULED_TIME  \\\n",
      "0      5            PBI                 GTR            -13.6           265.6   \n",
      "\n",
      "   AIR_SYSTEM_DELAY  SECURITY_DELAY  AIRLINE_DELAY  LATE_AIRCRAFT_DELAY  \\\n",
      "0              28.8             3.8            0.5                  6.3   \n",
      "\n",
      "   WEATHER_DELAY      DEPARTURE_TIME SCHEDULED_ARRIVAL AIRLINE  \n",
      "0            2.2 2024-05-28 11:22:00        2024-05-04      HA  \n"
     ]
    }
   ],
   "source": [
    "import pandas as pd\n",
    "import random\n",
    "from datetime import datetime, timedelta\n",
    "\n",
    "# Charger les fichiers airlines et airports\n",
    "airlines = pd.read_csv(\"../data/airlines.csv\")  # Suppose une colonne \"AIRLINE\" existe\n",
    "airports = pd.read_csv(\"../data/airports.csv\")  # Suppose une colonne \"AIRPORT\" existe\n",
    "\n",
    "# Obtenir les listes d'airlines et d'airports\n",
    "airline_list = airlines['IATA_CODE'].tolist()\n",
    "airport_list = airports['IATA_CODE'].tolist()\n",
    "\n",
    "# Fonction pour générer une ligne de données\n",
    "def generate_row():\n",
    "    month = random.randint(1, 12)  # Mois entre 1 et 12\n",
    "    origin_airport = random.choice(airport_list)\n",
    "    destination_airport = random.choice(airport_list)\n",
    "    while destination_airport == origin_airport:\n",
    "        destination_airport = random.choice(airport_list)\n",
    "    \n",
    "    departure_delay = round(random.uniform(-20.0, 120.0), 1)  # Retard au départ en minutes\n",
    "    scheduled_time = round(random.uniform(30.0, 300.0), 1)  # Durée prévue du vol en minutes\n",
    "    scheduled_arrival = datetime(2024, month, random.randint(1, 28), \n",
    "                              random.randint(0, 23), random.randint(0, 59))  # Date et heure départ\n",
    "    air_system_delay = round(random.uniform(0.0, 30.0), 1)  # Retard système\n",
    "    security_delay = round(random.uniform(0.0, 15.0), 1)  # Retard sécurité\n",
    "    airline_delay = round(random.uniform(-10.0, 30.0), 1)  # Retard de la compagnie\n",
    "    late_aircraft_delay = round(random.uniform(0.0, 20.0), 1)  # Retard avion précédent\n",
    "    weather_delay = round(random.uniform(0.0, 10.0), 1)  # Retard météo\n",
    "    airline = random.choice(airline_list)\n",
    "    departure_time = datetime(2024, month, random.randint(1, 28), \n",
    "                              random.randint(0, 23), random.randint(0, 59))  # Date et heure départ\n",
    "    \n",
    "\n",
    "\n",
    "    ['MONTH', 'ORIGIN_AIRPORT', 'DESTINATION_AIRPORT', 'DEPARTURE_DELAY',\n",
    "       'SCHEDULED_TIME', 'AIR_SYSTEM_DELAY', 'SECURITY_DELAY', 'AIRLINE_DELAY',\n",
    "       'LATE_AIRCRAFT_DELAY', 'WEATHER_DELAY', 'DEPARTURE_TIME_HOUR',\n",
    "       'DEPARTURE_TIME_MINUTE', 'SCHEDULED_ARRIVAL_HOUR',\n",
    "       'SCHEDULED_ARRIVAL_MINUTE', 'AIRLINE_AA', 'AIRLINE_AS', 'AIRLINE_B6',\n",
    "       'AIRLINE_DL', 'AIRLINE_EV', 'AIRLINE_F9', 'AIRLINE_HA', 'AIRLINE_MQ',\n",
    "       'AIRLINE_NK', 'AIRLINE_OO', 'AIRLINE_UA', 'AIRLINE_US', 'AIRLINE_VX',\n",
    "       'AIRLINE_WN']\n",
    "    return {\n",
    "        \"MONTH\": month,\n",
    "        \"ORIGIN_AIRPORT\": origin_airport,\n",
    "        \"DESTINATION_AIRPORT\": destination_airport,\n",
    "        \"DEPARTURE_DELAY\": departure_delay,\n",
    "        \"SCHEDULED_TIME\": scheduled_time,\n",
    "        \"AIR_SYSTEM_DELAY\": air_system_delay,\n",
    "        \"SECURITY_DELAY\": security_delay,\n",
    "        \"AIRLINE_DELAY\": airline_delay,\n",
    "        \"LATE_AIRCRAFT_DELAY\": late_aircraft_delay,\n",
    "        \"WEATHER_DELAY\": weather_delay,\n",
    "        \"DEPARTURE_TIME\": departure_time,\n",
    "        \"SCHEDULED_ARRIVAL\": scheduled_arrival,\n",
    "        \"AIRLINE\": airline\n",
    "    }\n",
    "\n",
    "# Générer plusieurs lignes\n",
    "def generate_data(n=100):\n",
    "    data = [generate_row() for _ in range(n)]\n",
    "    return pd.DataFrame(data)\n",
    "\n",
    "# Génération des données\n",
    "synthetic_data = generate_data(1)  # Exemple pour 10 lignes\n",
    "print(synthetic_data)\n",
    "\n",
    "\n"
   ]
  },
  {
   "cell_type": "code",
   "execution_count": 2,
   "metadata": {},
   "outputs": [
    {
     "name": "stdout",
     "output_type": "stream",
     "text": [
      "Données encodées :    MONTH  ORIGIN_AIRPORT  DESTINATION_AIRPORT  DEPARTURE_DELAY  \\\n",
      "0      5             542                  442            -13.6   \n",
      "\n",
      "   SCHEDULED_TIME  AIR_SYSTEM_DELAY  SECURITY_DELAY  AIRLINE_DELAY  \\\n",
      "0           265.6              28.8             3.8            0.5   \n",
      "\n",
      "   LATE_AIRCRAFT_DELAY  WEATHER_DELAY  ...  AIRLINE_EV  AIRLINE_F9  \\\n",
      "0                  6.3            2.2  ...           0           0   \n",
      "\n",
      "   AIRLINE_HA  AIRLINE_MQ  AIRLINE_NK  AIRLINE_OO  AIRLINE_UA  AIRLINE_US  \\\n",
      "0         1.0           0           0           0           0           0   \n",
      "\n",
      "   AIRLINE_VX  AIRLINE_WN  \n",
      "0           0           0  \n",
      "\n",
      "[1 rows x 28 columns]\n"
     ]
    }
   ],
   "source": [
    "import sys  \n",
    "#sys.path.insert(0, 'C:/Users/debgn/MLOPS/backend/src/')\n",
    "sys.path.insert(0, '../backend/src/')\n",
    "import preprocessing\n",
    "from preprocessing import preprocess\n",
    "a= preprocess(synthetic_data)"
   ]
  },
  {
   "cell_type": "code",
   "execution_count": 3,
   "metadata": {},
   "outputs": [
    {
     "data": {
      "text/plain": [
       "Index(['MONTH', 'ORIGIN_AIRPORT', 'DESTINATION_AIRPORT', 'DEPARTURE_DELAY',\n",
       "       'SCHEDULED_TIME', 'AIR_SYSTEM_DELAY', 'SECURITY_DELAY', 'AIRLINE_DELAY',\n",
       "       'LATE_AIRCRAFT_DELAY', 'WEATHER_DELAY', 'DEPARTURE_TIME_HOUR',\n",
       "       'DEPARTURE_TIME_MINUTE', 'SCHEDULED_ARRIVAL_HOUR',\n",
       "       'SCHEDULED_ARRIVAL_MINUTE', 'AIRLINE_AA', 'AIRLINE_AS', 'AIRLINE_B6',\n",
       "       'AIRLINE_DL', 'AIRLINE_EV', 'AIRLINE_F9', 'AIRLINE_HA', 'AIRLINE_MQ',\n",
       "       'AIRLINE_NK', 'AIRLINE_OO', 'AIRLINE_UA', 'AIRLINE_US', 'AIRLINE_VX',\n",
       "       'AIRLINE_WN'],\n",
       "      dtype='object')"
      ]
     },
     "execution_count": 3,
     "metadata": {},
     "output_type": "execute_result"
    }
   ],
   "source": [
    "a.columns"
   ]
  },
  {
   "cell_type": "code",
   "execution_count": 4,
   "metadata": {},
   "outputs": [],
   "source": [
    "a.to_csv(\"../data/a.csv\",index=False)\n"
   ]
  },
  {
   "cell_type": "code",
   "execution_count": 4,
   "metadata": {},
   "outputs": [
    {
     "name": "stdout",
     "output_type": "stream",
     "text": [
      "Airport encoder loaded successfully from DAGsHub.\n",
      "LabelEncoder()\n"
     ]
    }
   ],
   "source": [
    "import pickle\n",
    "import requests\n",
    "\n",
    "def load_airport_encoder_from_git(url):\n",
    "    \"\"\"\n",
    "    Charge l'encodeur des aéroports directement depuis l'URL donnée.\n",
    "    \"\"\"\n",
    "    response = requests.get(url)\n",
    "    if response.status_code == 200:\n",
    "        return pickle.loads(response.content)\n",
    "    else:\n",
    "        raise ValueError(f\"Unable to fetch file. HTTP Status Code: {response.status_code}\")\n",
    "\n",
    "# URL de l'encodeur\n",
    "airport_encoder_url = \"https://dagshub.com/deb.gnuito/MLOPS/raw/main/notebooks/airport_encoder.pickle\"\n",
    "\n",
    "try:\n",
    "    airport_encoder = load_airport_encoder_from_git(airport_encoder_url)\n",
    "    print(\"Airport encoder loaded successfully from DAGsHub.\")\n",
    "    print(airport_encoder)\n",
    "except ValueError as e:\n",
    "    print(f\"Error loading airport encoder: {e}\")\n"
   ]
  },
  {
   "cell_type": "code",
   "execution_count": null,
   "metadata": {},
   "outputs": [],
   "source": []
  },
  {
   "cell_type": "code",
   "execution_count": 5,
   "metadata": {},
   "outputs": [
    {
     "name": "stdout",
     "output_type": "stream",
     "text": [
      "LabelEncoder()\n"
     ]
    }
   ],
   "source": [
    "airport_encoder2 = pickle.load(open(\"../notebooks/airport_encoder.pickle\", \"rb\"))\n",
    "print(airport_encoder2)\n"
   ]
  },
  {
   "cell_type": "code",
   "execution_count": 7,
   "metadata": {},
   "outputs": [],
   "source": [
    "import pandas as pd\n",
    "df_airlines = pd.read_csv(\"../data/airlines.csv\")\n",
    "df_aiports = pd.read_csv(\"../data/airports.csv\")"
   ]
  },
  {
   "cell_type": "code",
   "execution_count": 16,
   "metadata": {},
   "outputs": [
    {
     "data": {
      "text/html": [
       "<div>\n",
       "<style scoped>\n",
       "    .dataframe tbody tr th:only-of-type {\n",
       "        vertical-align: middle;\n",
       "    }\n",
       "\n",
       "    .dataframe tbody tr th {\n",
       "        vertical-align: top;\n",
       "    }\n",
       "\n",
       "    .dataframe thead th {\n",
       "        text-align: right;\n",
       "    }\n",
       "</style>\n",
       "<table border=\"1\" class=\"dataframe\">\n",
       "  <thead>\n",
       "    <tr style=\"text-align: right;\">\n",
       "      <th></th>\n",
       "      <th>IATA_CODE</th>\n",
       "      <th>AIRLINE</th>\n",
       "    </tr>\n",
       "  </thead>\n",
       "  <tbody>\n",
       "    <tr>\n",
       "      <th>0</th>\n",
       "      <td>UA</td>\n",
       "      <td>United Air Lines Inc.</td>\n",
       "    </tr>\n",
       "  </tbody>\n",
       "</table>\n",
       "</div>"
      ],
      "text/plain": [
       "  IATA_CODE                AIRLINE\n",
       "0        UA  United Air Lines Inc."
      ]
     },
     "execution_count": 16,
     "metadata": {},
     "output_type": "execute_result"
    }
   ],
   "source": [
    "df_airlines.head(1)"
   ]
  },
  {
   "cell_type": "code",
   "execution_count": 19,
   "metadata": {},
   "outputs": [
    {
     "data": {
      "text/plain": [
       "['United Air Lines Inc.',\n",
       " 'American Airlines Inc.',\n",
       " 'US Airways Inc.',\n",
       " 'Frontier Airlines Inc.',\n",
       " 'JetBlue Airways',\n",
       " 'Skywest Airlines Inc.',\n",
       " 'Alaska Airlines Inc.',\n",
       " 'Spirit Air Lines',\n",
       " 'Southwest Airlines Co.',\n",
       " 'Delta Air Lines Inc.',\n",
       " 'Atlantic Southeast Airlines',\n",
       " 'Hawaiian Airlines Inc.',\n",
       " 'American Eagle Airlines Inc.',\n",
       " 'Virgin America']"
      ]
     },
     "execution_count": 19,
     "metadata": {},
     "output_type": "execute_result"
    }
   ],
   "source": [
    "df_airlines[\"AIRLINE\"].tolist()"
   ]
  },
  {
   "cell_type": "markdown",
   "metadata": {},
   "source": [
    "IATA_CODE=['UA',\n",
    " 'AA',\n",
    " 'US',\n",
    " 'F9',\n",
    " 'B6',\n",
    " 'OO',\n",
    " 'AS',\n",
    " 'NK',\n",
    " 'WN',\n",
    " 'DL',\n",
    " 'EV',\n",
    " 'HA',\n",
    " 'MQ',\n",
    " 'VX'],\n",
    "\n",
    " AIRLINE:['United Air Lines Inc.',\n",
    " 'American Airlines Inc.',\n",
    " 'US Airways Inc.',\n",
    " 'Frontier Airlines Inc.',\n",
    " 'JetBlue Airways',\n",
    " 'Skywest Airlines Inc.',\n",
    " 'Alaska Airlines Inc.',\n",
    " 'Spirit Air Lines',\n",
    " 'Southwest Airlines Co.',\n",
    " 'Delta Air Lines Inc.',\n",
    " 'Atlantic Southeast Airlines',\n",
    " 'Hawaiian Airlines Inc.',\n",
    " 'American Eagle Airlines Inc.',\n",
    " 'Virgin America']"
   ]
  }
 ],
 "metadata": {
  "kernelspec": {
   "display_name": "ml_env",
   "language": "python",
   "name": "python3"
  },
  "language_info": {
   "codemirror_mode": {
    "name": "ipython",
    "version": 3
   },
   "file_extension": ".py",
   "mimetype": "text/x-python",
   "name": "python",
   "nbconvert_exporter": "python",
   "pygments_lexer": "ipython3",
   "version": "3.9.15"
  }
 },
 "nbformat": 4,
 "nbformat_minor": 2
}
